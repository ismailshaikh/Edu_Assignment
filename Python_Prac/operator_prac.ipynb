{
 "cells": [
  {
   "cell_type": "markdown",
   "metadata": {},
   "source": [
    "# Python Operators\n",
    "- Arithmetic operators\n",
    "- Assignment operators\n",
    "- Comparison operators\n",
    "- Logical operators\n",
    "- Identity operators\n",
    "- Membership operators\n",
    "- Bitwise operators"
   ]
  },
  {
   "cell_type": "code",
   "execution_count": 1,
   "metadata": {},
   "outputs": [],
   "source": [
    "a = 11\n",
    "b=2"
   ]
  },
  {
   "cell_type": "markdown",
   "metadata": {},
   "source": [
    "# Arithmatic Operator\n",
    "- **+**\tAddition\tx + y\t\n",
    "- **-**\tSubtraction\tx - y\t\n",
    "-   \"*\"\tMultiplication\tx * y\t\n",
    "- **/**\tDivision\tx / y\t\n",
    "- **%**\tModulus\tx % y\t\n",
    "-  ** Exponentiation\tx ** y\t\n",
    "- **//**\tFloor division\tx // y"
   ]
  },
  {
   "cell_type": "code",
   "execution_count": 2,
   "metadata": {},
   "outputs": [
    {
     "name": "stdout",
     "output_type": "stream",
     "text": [
      "13\n",
      "9\n",
      "22\n",
      "5.5\n",
      "1\n",
      "121\n",
      "5\n"
     ]
    }
   ],
   "source": [
    "print(a+b)\n",
    "print(a-b)\n",
    "print(a*b)\n",
    "print(a/b)\n",
    "print(a%b)\n",
    "print(a**b)\n",
    "print(a//b)\n"
   ]
  },
  {
   "cell_type": "markdown",
   "metadata": {},
   "source": [
    "# Comparison Operator\n",
    "- ==\tEqual\tx == y\t\n",
    "- !=\tNot equal\tx != y\t\n",
    "- \">\"\tGreater than\tx > y\t\n",
    "- <\tLess than\tx < y\t\n",
    "- \">=\"\tGreater than or equal to\tx >= y\t\n",
    "- <=\tLess than or equal to\tx <= y\n",
    "\n"
   ]
  },
  {
   "cell_type": "code",
   "execution_count": 5,
   "metadata": {},
   "outputs": [
    {
     "name": "stdout",
     "output_type": "stream",
     "text": [
      "False\n",
      "True\n",
      "True\n",
      "False\n",
      "True\n",
      "False\n",
      "13\n"
     ]
    }
   ],
   "source": [
    "print(a==b)\n",
    "print(a!=b)\n",
    "print(a>b)\n",
    "print(a<b)\n",
    "print(a>=b)\n",
    "print(a<=b)\n"
   ]
  },
  {
   "cell_type": "markdown",
   "metadata": {},
   "source": [
    "# Assignment Operator\n",
    "\n",
    "- =\tx = 5\tx = 5\t\n",
    "- +=\tx += 3\tx = x + 3\t\n",
    "- -=\tx -= 3\tx = x - 3\t\n",
    "- *=\tx *= 3\tx = x * 3\t\n",
    "- /=\tx /= 3\tx = x / 3\t\n",
    "- %=\tx %= 3\tx = x % 3\t\n",
    "- //=\tx //= 3\tx = x // 3\t\n",
    "- **=\tx **= 3\tx = x ** 3\t\n",
    "- &=\tx &= 3\tx = x & 3\t\n",
    "- |=\tx |= 3\tx = x | 3\t\n",
    "- ^=\tx ^= 3\tx = x ^ 3\t\n",
    "- \">>=\"\tx >>= 3\tx = x >> 3\t\n",
    "- <<=\tx <<= 3\tx = x << 3"
   ]
  },
  {
   "cell_type": "code",
   "execution_count": 8,
   "metadata": {},
   "outputs": [
    {
     "name": "stdout",
     "output_type": "stream",
     "text": [
      "13\n",
      "15\n"
     ]
    }
   ],
   "source": [
    "\n",
    "c = a+b\n",
    "print(c)\n",
    "x = 2\n",
    "x+=c\n",
    "print(x)"
   ]
  },
  {
   "cell_type": "markdown",
   "metadata": {},
   "source": [
    "# Comparison Operator\n",
    "\n",
    "- ==\tEqual\tx == y\t\n",
    "- !=\tNot equal\tx != y\t\n",
    "- \">\"\tGreater than\tx > y\t\n",
    "- <\tLess than\tx < y\t\n",
    "- \">=\"\tGreater than or equal to\tx >= y\t\n",
    "- <=\tLess than or equal to\tx <= y"
   ]
  },
  {
   "cell_type": "markdown",
   "metadata": {},
   "source": [
    "# Logical Operator\n",
    "- **and** \tReturns True if both statements are true\tx < 5 and  x < 10\t\n",
    "- **or**\tReturns True if one of the statements is true\tx < 5 or x < 4\t\n",
    "- **not**\tReverse the result, returns False if the result is true\tnot(x < 5 and x < 10)"
   ]
  },
  {
   "cell_type": "markdown",
   "metadata": {},
   "source": [
    "# Identity Operator\n",
    "- **is** \tReturns True if both variables are the same object\tx is y\t\n",
    "- **is not**\tReturns True if both variables are not the same object\tx is not y"
   ]
  },
  {
   "cell_type": "markdown",
   "metadata": {},
   "source": [
    "# Membership Operator\n",
    "\n",
    "- **in** \tReturns True if a sequence with the specified value is present in the object\tx in y\t\n",
    "- **not in**\tReturns True if a sequence with the specified value is not present in the object\tx not in y"
   ]
  },
  {
   "cell_type": "markdown",
   "metadata": {},
   "source": [
    "# Bitwise Operator\n",
    "\n",
    "- **&** , **AND**   :\tSets each bit to 1 if both bits are 1\tx & y\t\n",
    "- **|**\t, **OR**\t: Sets each bit to 1 if one of two bits is 1\tx | y\t\n",
    "- **^**\t, **XOR**\t: Sets each bit to 1 if only one of two bits is 1\tx ^ y\t\n",
    "- **~**\t, **NOT**\t :Inverts all the bits\t~x\t\n",
    "- **<<**\t: Zero fill left shift\tShift left by pushing zeros in from the right and let the leftmost bits fall off\tx << 2\t\n",
    "- **>>**\t: Signed right shift\tShift right by pushing copies of the leftmost bit in from the left, and let the rightmost bits fall off\tx >> 2"
   ]
  },
  {
   "cell_type": "code",
   "execution_count": 9,
   "metadata": {},
   "outputs": [
    {
     "name": "stdout",
     "output_type": "stream",
     "text": [
      "a is bigger no.\n"
     ]
    }
   ],
   "source": [
    "if a>b :\n",
    "    print(\"a is bigger no.\")\n",
    "else :\n",
    "    print(\"b is  bigger\")"
   ]
  },
  {
   "cell_type": "code",
   "execution_count": 11,
   "metadata": {},
   "outputs": [
    {
     "data": {
      "text/plain": [
       "False"
      ]
     },
     "execution_count": 11,
     "metadata": {},
     "output_type": "execute_result"
    }
   ],
   "source": [
    "not b"
   ]
  },
  {
   "cell_type": "code",
   "execution_count": null,
   "metadata": {},
   "outputs": [],
   "source": []
  },
  {
   "cell_type": "code",
   "execution_count": null,
   "metadata": {},
   "outputs": [],
   "source": []
  }
 ],
 "metadata": {
  "kernelspec": {
   "display_name": "Python 3.10.5 64-bit",
   "language": "python",
   "name": "python3"
  },
  "language_info": {
   "codemirror_mode": {
    "name": "ipython",
    "version": 3
   },
   "file_extension": ".py",
   "mimetype": "text/x-python",
   "name": "python",
   "nbconvert_exporter": "python",
   "pygments_lexer": "ipython3",
   "version": "3.10.5"
  },
  "orig_nbformat": 4,
  "vscode": {
   "interpreter": {
    "hash": "c4749c06aa3e16d2c2a5037987614f0fd71db870bc4e2fb424ca63ed32a2e6ea"
   }
  }
 },
 "nbformat": 4,
 "nbformat_minor": 2
}
