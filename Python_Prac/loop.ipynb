{
 "cells": [
  {
   "cell_type": "code",
   "execution_count": 17,
   "metadata": {},
   "outputs": [],
   "source": [
    "s = int(input(\"enter count\"))\n"
   ]
  },
  {
   "cell_type": "code",
   "execution_count": 18,
   "metadata": {},
   "outputs": [],
   "source": [
    "i = 1\n",
    "while True:\n",
    "    if i%3==0:\n",
    "        break\n",
    "        print(i)\n",
    "    i+=1"
   ]
  },
  {
   "cell_type": "code",
   "execution_count": 19,
   "metadata": {},
   "outputs": [
    {
     "name": "stdout",
     "output_type": "stream",
     "text": [
      "0\n",
      "1\n",
      "2\n",
      "3\n",
      "4\n",
      "5\n",
      "6\n",
      "7\n"
     ]
    }
   ],
   "source": [
    "# while and For loop if name element exist in the list \n",
    "\n",
    "l = [10,8,77,90]\n",
    "\n",
    "for i in range(10):\n",
    "    if i in l:\n",
    "        break\n",
    "    else:\n",
    "        print(i)"
   ]
  },
  {
   "cell_type": "code",
   "execution_count": 20,
   "metadata": {},
   "outputs": [
    {
     "name": "stdout",
     "output_type": "stream",
     "text": [
      "0\n",
      "1\n",
      "2\n",
      "3\n",
      "4\n",
      "5\n",
      "6\n",
      "7\n"
     ]
    }
   ],
   "source": [
    "l = [10,8,77,90]\n",
    "\n",
    "for i in range(10):\n",
    "    if i in l:\n",
    "        break\n",
    "    else:\n",
    "        print(i)"
   ]
  },
  {
   "cell_type": "code",
   "execution_count": 21,
   "metadata": {},
   "outputs": [
    {
     "ename": "IndentationError",
     "evalue": "expected an indented block after 'else' statement on line 16 (3202209353.py, line 18)",
     "output_type": "error",
     "traceback": [
      "\u001b[1;36m  Cell \u001b[1;32mIn[21], line 18\u001b[1;36m\u001b[0m\n\u001b[1;33m    print(\"Try Again\")\u001b[0m\n\u001b[1;37m    ^\u001b[0m\n\u001b[1;31mIndentationError\u001b[0m\u001b[1;31m:\u001b[0m expected an indented block after 'else' statement on line 16\n"
     ]
    }
   ],
   "source": [
    "# using for and while loop run a statement \n",
    "# which asks you to enter a special code \n",
    "# if special code is not correct \n",
    "# then it should ask you again to mention special code and \n",
    "# when special code is entered it should reveal the secret that\n",
    "# \"Gangadhar is Shaktiman\"\n",
    "\n",
    "set_code = \"abcd\"\n",
    "code = \"\"\n",
    "c = 1\n",
    "while set_code != code:\n",
    "    code = input(\"Enter code : \")\n",
    "    c +=1\n",
    "    if c>3:\n",
    "       break\n",
    "    else:\n",
    "        \n",
    "    print(\"Try Again\")\n",
    "\n",
    "\n",
    "print(\"Gangadhar hi Shaktiman hai\")   \n",
    "print(f\"You Have try For {c}\")"
   ]
  },
  {
   "cell_type": "code",
   "execution_count": null,
   "metadata": {},
   "outputs": [],
   "source": []
  },
  {
   "cell_type": "code",
   "execution_count": null,
   "metadata": {},
   "outputs": [
    {
     "name": "stdout",
     "output_type": "stream",
     "text": [
      "Incorrect code ! Please Try Again..\n",
      "Incorrect code ! Please Try Again..\n"
     ]
    }
   ],
   "source": [
    "set_code = \"abcd\"\n",
    "\n",
    "while True:\n",
    "    code = input(\"Enter code : \")\n",
    "    if set_code == code:\n",
    "        print(\"Gangadhar hi Shaktiman hai\")  \n",
    "        break\n",
    "    else:\n",
    "        print(\"Incorrect code ! Please Try Again..\")"
   ]
  },
  {
   "cell_type": "code",
   "execution_count": null,
   "metadata": {},
   "outputs": [],
   "source": [
    "set_code = \"abcd\"\n",
    "\n",
    "while True:\n",
    "    code = input(\"Enter code : \")\n",
    "    if set_code!= code:\n",
    "         \n",
    "    else:\n",
    "        print(\"Gangadhar hi Shaktiman hai\") \n",
    "        print(\"Incorrect code ! Please Try Again..\")"
   ]
  },
  {
   "cell_type": "code",
   "execution_count": null,
   "metadata": {},
   "outputs": [
    {
     "name": "stdout",
     "output_type": "stream",
     "text": [
      "Try Again\n",
      "Try Again\n",
      "Congratulations! The secret is: 'Gangadhar is Shaktiman'\n",
      "You Have try For 3\n"
     ]
    }
   ],
   "source": [
    "\n",
    "\n",
    "special_code = \"OpenSesame\"\n",
    "entered_code = \"\"\n",
    "c = 1\n",
    "\n",
    "while entered_code != special_code:\n",
    "    entered_code = input(\"Enter the special code: \")\n",
    "    c+=1\n",
    "    print(\"Try Again\")\n",
    "\n",
    "print(\"Congratulations! The secret is: 'Gangadhar is Shaktiman'\")\n",
    "print(f\"You Have try For {c}\")"
   ]
  },
  {
   "cell_type": "code",
   "execution_count": null,
   "metadata": {},
   "outputs": [],
   "source": [
    "special_code = \"abcd\"\n",
    "entered_code = \"\"\n",
    "c = 1\n",
    "while True :\n",
    "    code = input(\"Enter code:\")\n",
    "    for i in "
   ]
  },
  {
   "cell_type": "code",
   "execution_count": null,
   "metadata": {},
   "outputs": [],
   "source": []
  },
  {
   "cell_type": "code",
   "execution_count": 26,
   "metadata": {},
   "outputs": [
    {
     "name": "stdout",
     "output_type": "stream",
     "text": [
      "You have exceeded the maximum number of attempts.\n"
     ]
    }
   ],
   "source": [
    "set_code = \"abcd\"\n",
    "for i in range(3): \n",
    "    enter_code = input(\"Enter code: \")\n",
    "    if enter_code == set_code:\n",
    "        print(\"Congratulations! The secret is: 'Gangadhar is Shaktiman'\")\n",
    "        break\n",
    "\n",
    "if enter_code != set_code:\n",
    "    print(\"You have exceeded the maximum number of attempts.\")"
   ]
  },
  {
   "cell_type": "code",
   "execution_count": 22,
   "metadata": {},
   "outputs": [
    {
     "name": "stdout",
     "output_type": "stream",
     "text": [
      "Congratulations! The secret is: 'Gangadhar is Shaktiman'\n"
     ]
    }
   ],
   "source": [
    "set_code = \"1234\"\n",
    "max_atmpt = 3\n",
    "atmpt = 0\n",
    "\n",
    "while atmpt< max_atmpt:\n",
    "    \n",
    "    enter_code = input(\"Enter the special code: \")\n",
    "    \n",
    "    if enter_code == set_code:\n",
    "        print(\"Congratulations! The secret is: 'Gangadhar is Shaktiman'\")\n",
    "        break\n",
    "    \n",
    "    atmpt += 1\n",
    "\n",
    "if atmpt == max_atmpt:\n",
    "    print(\"Sorry!,You have exceeded the maximum number of attempts.\")"
   ]
  },
  {
   "cell_type": "code",
   "execution_count": 28,
   "metadata": {},
   "outputs": [
    {
     "name": "stdout",
     "output_type": "stream",
     "text": [
      "1\n",
      "2\n",
      "3\n",
      "4\n",
      "5\n",
      "6\n"
     ]
    }
   ],
   "source": [
    "i = 1\n",
    "while True:\n",
    "    if i%0O7 == 0: # Octal Representation of 7\n",
    "        break\n",
    "    print(i)\n",
    "    i+=1\n",
    "    "
   ]
  },
  {
   "cell_type": "code",
   "execution_count": 31,
   "metadata": {},
   "outputs": [
    {
     "data": {
      "text/plain": [
       "[0, 1]"
      ]
     },
     "execution_count": 31,
     "metadata": {},
     "output_type": "execute_result"
    }
   ],
   "source": [
    "[i for i in range(3) if i!=2]"
   ]
  },
  {
   "cell_type": "code",
   "execution_count": null,
   "metadata": {},
   "outputs": [],
   "source": []
  }
 ],
 "metadata": {
  "kernelspec": {
   "display_name": "Python 3.10.5 64-bit",
   "language": "python",
   "name": "python3"
  },
  "language_info": {
   "codemirror_mode": {
    "name": "ipython",
    "version": 3
   },
   "file_extension": ".py",
   "mimetype": "text/x-python",
   "name": "python",
   "nbconvert_exporter": "python",
   "pygments_lexer": "ipython3",
   "version": "3.10.5"
  },
  "orig_nbformat": 4,
  "vscode": {
   "interpreter": {
    "hash": "c4749c06aa3e16d2c2a5037987614f0fd71db870bc4e2fb424ca63ed32a2e6ea"
   }
  }
 },
 "nbformat": 4,
 "nbformat_minor": 2
}
