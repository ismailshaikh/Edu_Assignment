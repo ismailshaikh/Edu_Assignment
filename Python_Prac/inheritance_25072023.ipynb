{
 "cells": [
  {
   "cell_type": "markdown",
   "metadata": {},
   "source": [
    "### MultiLevel Inheritance (Grand Father - Father - Child)"
   ]
  },
  {
   "cell_type": "code",
   "execution_count": 8,
   "metadata": {},
   "outputs": [],
   "source": [
    "class Shape:\n",
    "    def c_area(self):\n",
    "        return \"Area of Shape\""
   ]
  },
  {
   "cell_type": "code",
   "execution_count": 32,
   "metadata": {},
   "outputs": [],
   "source": [
    "class Quad(Shape):\n",
    "    def __init__(self,leng1,leng2):\n",
    "        self.leng1 = leng1\n",
    "        self.leng2 = leng2\n",
    "    \n",
    "    def calc_quad(self):\n",
    "        return f\"Area of Quad : {self.leng1 * self.leng2}\""
   ]
  },
  {
   "cell_type": "code",
   "execution_count": 33,
   "metadata": {},
   "outputs": [],
   "source": [
    "class sqr(Quad):\n",
    "    def __init__(self, leng1,leng2, color):\n",
    "        super().__init__(leng1,leng2)\n",
    "        self.color = color"
   ]
  },
  {
   "cell_type": "code",
   "execution_count": 34,
   "metadata": {},
   "outputs": [],
   "source": [
    "s1 = sqr(40,30,\"blue\")"
   ]
  },
  {
   "cell_type": "code",
   "execution_count": 36,
   "metadata": {},
   "outputs": [
    {
     "data": {
      "text/plain": [
       "'Area of Quad : 1200'"
      ]
     },
     "execution_count": 36,
     "metadata": {},
     "output_type": "execute_result"
    }
   ],
   "source": [
    "s1.calc_quad()"
   ]
  },
  {
   "cell_type": "markdown",
   "metadata": {},
   "source": [
    "-----------------------------------------------------------------\n",
    "### Hierarchical Inheritance (1 Parent 2 child)"
   ]
  },
  {
   "cell_type": "code",
   "execution_count": 38,
   "metadata": {},
   "outputs": [],
   "source": [
    "class Triangl(Shape):\n",
    "    def __init__(self,b,h):\n",
    "        self.b=b\n",
    "        self.h=h\n",
    "    def calc(self):\n",
    "        return f\"Area of Triangle : {(self.b*self.h)}\""
   ]
  },
  {
   "cell_type": "code",
   "execution_count": 39,
   "metadata": {},
   "outputs": [
    {
     "data": {
      "text/plain": [
       "'Area of Triangle : 8'"
      ]
     },
     "execution_count": 39,
     "metadata": {},
     "output_type": "execute_result"
    }
   ],
   "source": [
    "t1 = Triangl(2,4)\n",
    "t1.calc()"
   ]
  },
  {
   "cell_type": "markdown",
   "metadata": {},
   "source": [
    "----------------------------------------------------------------------\n",
    "### Multiple Inheritance"
   ]
  },
  {
   "cell_type": "code",
   "execution_count": 55,
   "metadata": {},
   "outputs": [],
   "source": [
    "class poly(Triangl,sqr):\n",
    "    def __init__(self,leng1,leng2):\n",
    "        super().__init__(leng1,leng2)\n",
    "    \n",
    "    pass"
   ]
  },
  {
   "cell_type": "code",
   "execution_count": 56,
   "metadata": {},
   "outputs": [],
   "source": [
    "p1 = poly(23,33)"
   ]
  },
  {
   "cell_type": "code",
   "execution_count": 57,
   "metadata": {},
   "outputs": [
    {
     "data": {
      "text/plain": [
       "'Area of Triangle : 759'"
      ]
     },
     "execution_count": 57,
     "metadata": {},
     "output_type": "execute_result"
    }
   ],
   "source": [
    "p1.calc()"
   ]
  },
  {
   "cell_type": "code",
   "execution_count": 59,
   "metadata": {},
   "outputs": [
    {
     "ename": "AttributeError",
     "evalue": "'poly' object has no attribute 'leng1'",
     "output_type": "error",
     "traceback": [
      "\u001b[1;31m---------------------------------------------------------------------------\u001b[0m",
      "\u001b[1;31mAttributeError\u001b[0m                            Traceback (most recent call last)",
      "Cell \u001b[1;32mIn[59], line 1\u001b[0m\n\u001b[1;32m----> 1\u001b[0m \u001b[43mp1\u001b[49m\u001b[38;5;241;43m.\u001b[39;49m\u001b[43mcalc_quad\u001b[49m\u001b[43m(\u001b[49m\u001b[43m)\u001b[49m\n",
      "Cell \u001b[1;32mIn[32], line 7\u001b[0m, in \u001b[0;36mQuad.calc_quad\u001b[1;34m(self)\u001b[0m\n\u001b[0;32m      6\u001b[0m \u001b[38;5;28;01mdef\u001b[39;00m \u001b[38;5;21mcalc_quad\u001b[39m(\u001b[38;5;28mself\u001b[39m):\n\u001b[1;32m----> 7\u001b[0m     \u001b[38;5;28;01mreturn\u001b[39;00m \u001b[38;5;124mf\u001b[39m\u001b[38;5;124m\"\u001b[39m\u001b[38;5;124mArea of Quad : \u001b[39m\u001b[38;5;132;01m{\u001b[39;00m\u001b[38;5;28;43mself\u001b[39;49m\u001b[38;5;241;43m.\u001b[39;49m\u001b[43mleng1\u001b[49m\u001b[38;5;250m \u001b[39m\u001b[38;5;241m*\u001b[39m\u001b[38;5;250m \u001b[39m\u001b[38;5;28mself\u001b[39m\u001b[38;5;241m.\u001b[39mleng2\u001b[38;5;132;01m}\u001b[39;00m\u001b[38;5;124m\"\u001b[39m\n",
      "\u001b[1;31mAttributeError\u001b[0m: 'poly' object has no attribute 'leng1'"
     ]
    }
   ],
   "source": [
    "p1.calc_quad()"
   ]
  },
  {
   "cell_type": "code",
   "execution_count": 60,
   "metadata": {},
   "outputs": [
    {
     "name": "stdout",
     "output_type": "stream",
     "text": [
      "Inside smartphone constructor\n",
      "Inside phone constructor\n",
      "Inside smartphone constructor\n",
      "Android\n",
      "Samsung\n"
     ]
    }
   ],
   "source": [
    "#single\n",
    "class Phone:\n",
    "    def __init__(self, price, brand, camera):\n",
    "        print (\"Inside phone constructor\")\n",
    "        self.__price = price\n",
    "        self.brand = brand\n",
    "        self.camera = camera\n",
    "\n",
    "class SmartPhone(Phone):\n",
    "    def __init__(self, price, brand, camera, os, ram):\n",
    "        print('Inside smartphone constructor')\n",
    "        super().__init__(price, brand, camera)\n",
    "        self.os = os\n",
    "        self.ram = ram\n",
    "        print (\"Inside smartphone constructor\")\n",
    "\n",
    "\n",
    "s=SmartPhone(20000, \"Samsung\", 12, \"Android\", 2)\n",
    "\n",
    "print(s.os)\n",
    "print(s.brand)"
   ]
  },
  {
   "cell_type": "code",
   "execution_count": 63,
   "metadata": {},
   "outputs": [
    {
     "name": "stdout",
     "output_type": "stream",
     "text": [
      "Inside phone constructor\n",
      "Buying a phone\n",
      "Product customer review\n"
     ]
    }
   ],
   "source": [
    "# Multi level\n",
    "class Product:\n",
    "    def review(self):\n",
    "        print (\"Product customer review\")\n",
    "\n",
    "class Phone(Product):\n",
    "    def __init__(self, price, brand, camera):\n",
    "        print (\"Inside phone constructor\")\n",
    "        self.__price = price\n",
    "        self.brand = brand\n",
    "        self.camera = camera\n",
    "\n",
    "    def buy(self):\n",
    "        print (\"Buying a phone\")\n",
    "\n",
    "class SmartPhone(Phone):\n",
    "    pass\n",
    "\n",
    "s=SmartPhone(20000, \"Apple\", 12)\n",
    "\n",
    "s.buy()\n",
    "s.review()"
   ]
  },
  {
   "cell_type": "code",
   "execution_count": 61,
   "metadata": {},
   "outputs": [
    {
     "name": "stdout",
     "output_type": "stream",
     "text": [
      "Inside phone constructor\n",
      "Buying a phone\n",
      "Inside phone constructor\n",
      "Buying a phone\n"
     ]
    }
   ],
   "source": [
    "# Heirarchical\n",
    "class Phone:\n",
    "    def __init__(self, price, brand, camera):\n",
    "        print (\"Inside phone constructor\")\n",
    "        self.__price = price\n",
    "        self.brand = brand\n",
    "        self.camera = camera\n",
    "\n",
    "    def buy(self):\n",
    "        print (\"Buying a phone\")\n",
    "\n",
    "class SmartPhone(Phone):\n",
    "    pass\n",
    "\n",
    "class FeaturePhone(Phone):\n",
    "    pass\n",
    "\n",
    "SmartPhone(1000,\"Apple\",\"13px\").buy()\n",
    "FeaturePhone(10,\"Lava\",\"1px\").buy()"
   ]
  },
  {
   "cell_type": "code",
   "execution_count": 62,
   "metadata": {},
   "outputs": [
    {
     "name": "stdout",
     "output_type": "stream",
     "text": [
      "Inside phone constructor\n",
      "Buying a phone\n",
      "Customer review\n"
     ]
    }
   ],
   "source": [
    "# Multiple\n",
    "class Phone:\n",
    "    def __init__(self, price, brand, camera):\n",
    "        print (\"Inside phone constructor\")\n",
    "        self.__price = price\n",
    "        self.brand = brand\n",
    "        self.camera = camera\n",
    "\n",
    "    def buy(self):\n",
    "        print (\"Buying a phone\")\n",
    "\n",
    "class Product:\n",
    "    def review(self):\n",
    "        print (\"Customer review\")\n",
    "\n",
    "class SmartPhone(Phone, Product):\n",
    "    pass\n",
    "\n",
    "s=SmartPhone(20000, \"Apple\", 12)\n",
    "\n",
    "s.buy()\n",
    "s.review()\n"
   ]
  },
  {
   "cell_type": "code",
   "execution_count": 66,
   "metadata": {},
   "outputs": [
    {
     "name": "stdout",
     "output_type": "stream",
     "text": [
      "Inside phone constructor\n",
      "Brand : Apple, Price : 20000\n",
      "You Are Buying a SmartPhone\n",
      "Buying a phone\n",
      "--------------------------------------------\n",
      "Inside phone constructor\n",
      "Brand : Apple, Price : 2000\n",
      "You Are Buying a FeaturePhone\n",
      "Buying a phone\n"
     ]
    }
   ],
   "source": [
    "class Phone: # Parent\n",
    "    def __init__(self, price, brand, camera):\n",
    "        print (\"Inside phone constructor\")\n",
    "        self.price = price\n",
    "        self.brand = brand\n",
    "        self.camera = camera\n",
    "        \n",
    "    # Method\n",
    "    def buy(self):\n",
    "        if self.camera == 0:\n",
    "            print(f\"Brand : {self.brand}, Price : {self.price}\") \n",
    "            print (\"You Are Buying a FeaturePhone\")\n",
    "        else:\n",
    "            print(f\"Brand : {self.brand}, Price : {self.price}\")\n",
    "            print (\"You Are Buying a SmartPhone\")\n",
    "            \n",
    "        print (\"Buying a phone\")\n",
    "\n",
    "\n",
    "class smartphone(Phone): # Child\n",
    "    def __init__(self, price, brand, camera):\n",
    "        super().__init__(price, brand, camera)\n",
    "    \n",
    "    def specification(self):\n",
    "        print(\"Inside Smart Phone\")\n",
    "        print(f\"Brand : {self.brand}, Price : {self.price}\")\n",
    "\n",
    "\n",
    "class FeaturePhone(Phone): # Child\n",
    "    def __init__(self, price,brand, camera):\n",
    "        super().__init__(price, brand, camera)\n",
    "    \n",
    "    def specification(self):\n",
    "        print(\"Inside Feature Phone\")\n",
    "        print(f\"Brand : {self.brand}, Price : {self.price}\")\n",
    "\n",
    "\n",
    "s = smartphone(20000,\"Apple\",13)\n",
    "s.buy()\n",
    "# s.SP_specification()\n",
    "print(\"--------------------------------------------\")\n",
    "p = FeaturePhone(2000,\"Apple\",0)\n",
    "# p.FP_specification()\n",
    "p.buy()"
   ]
  },
  {
   "cell_type": "code",
   "execution_count": 69,
   "metadata": {},
   "outputs": [
    {
     "name": "stdout",
     "output_type": "stream",
     "text": [
      "Inside Feature Phone\n",
      "Brand : Apple, Price : 2000\n",
      "--------------------------------\n",
      "Inside Smart Phone\n",
      "Brand : Apple, Price : 20000\n"
     ]
    }
   ],
   "source": [
    "p.specification()\n",
    "print(\"--------------------------------\")\n",
    "s.specification()"
   ]
  },
  {
   "cell_type": "code",
   "execution_count": 75,
   "metadata": {},
   "outputs": [
    {
     "name": "stdout",
     "output_type": "stream",
     "text": [
      "Inside phone constructor\n",
      "Brand : Apple, Price : 20000\n",
      "You Are Buying a SmartPhone\n",
      "Buying a phone\n",
      "Inside Smart Phone\n"
     ]
    },
    {
     "ename": "AttributeError",
     "evalue": "type object 'smartphone' has no attribute '_smartphone__price'",
     "output_type": "error",
     "traceback": [
      "\u001b[1;31m---------------------------------------------------------------------------\u001b[0m",
      "\u001b[1;31mAttributeError\u001b[0m                            Traceback (most recent call last)",
      "Cell \u001b[1;32mIn[75], line 41\u001b[0m\n\u001b[0;32m     39\u001b[0m s \u001b[38;5;241m=\u001b[39m smartphone(\u001b[38;5;241m20000\u001b[39m,\u001b[38;5;124m\"\u001b[39m\u001b[38;5;124mApple\u001b[39m\u001b[38;5;124m\"\u001b[39m,\u001b[38;5;241m13\u001b[39m)\n\u001b[0;32m     40\u001b[0m s\u001b[38;5;241m.\u001b[39mbuy()\n\u001b[1;32m---> 41\u001b[0m \u001b[43ms\u001b[49m\u001b[38;5;241;43m.\u001b[39;49m\u001b[43mspecification\u001b[49m\u001b[43m(\u001b[49m\u001b[43m)\u001b[49m\n\u001b[0;32m     42\u001b[0m \u001b[38;5;28mprint\u001b[39m(\u001b[38;5;124m\"\u001b[39m\u001b[38;5;124m--------------------------------------------\u001b[39m\u001b[38;5;124m\"\u001b[39m)\n\u001b[0;32m     43\u001b[0m p \u001b[38;5;241m=\u001b[39m FeaturePhone(\u001b[38;5;241m2000\u001b[39m,\u001b[38;5;124m\"\u001b[39m\u001b[38;5;124mApple\u001b[39m\u001b[38;5;124m\"\u001b[39m,\u001b[38;5;241m0\u001b[39m)\n",
      "Cell \u001b[1;32mIn[75], line 27\u001b[0m, in \u001b[0;36msmartphone.specification\u001b[1;34m(self)\u001b[0m\n\u001b[0;32m     25\u001b[0m \u001b[38;5;28;01mdef\u001b[39;00m \u001b[38;5;21mspecification\u001b[39m(\u001b[38;5;28mself\u001b[39m):\n\u001b[0;32m     26\u001b[0m     \u001b[38;5;28mprint\u001b[39m(\u001b[38;5;124m\"\u001b[39m\u001b[38;5;124mInside Smart Phone\u001b[39m\u001b[38;5;124m\"\u001b[39m)\n\u001b[1;32m---> 27\u001b[0m     \u001b[38;5;28mprint\u001b[39m(\u001b[38;5;124mf\u001b[39m\u001b[38;5;124m\"\u001b[39m\u001b[38;5;124mBrand : \u001b[39m\u001b[38;5;132;01m{\u001b[39;00m\u001b[38;5;28mself\u001b[39m\u001b[38;5;241m.\u001b[39mbrand\u001b[38;5;132;01m}\u001b[39;00m\u001b[38;5;124m, Price : \u001b[39m\u001b[38;5;132;01m{\u001b[39;00m\u001b[43msmartphone\u001b[49m\u001b[38;5;241;43m.\u001b[39;49m\u001b[43m__price\u001b[49m\u001b[38;5;132;01m}\u001b[39;00m\u001b[38;5;124m\"\u001b[39m)\n",
      "\u001b[1;31mAttributeError\u001b[0m: type object 'smartphone' has no attribute '_smartphone__price'"
     ]
    }
   ],
   "source": [
    "class Phone: # Parent\n",
    "    def __init__(self, price, brand, camera):\n",
    "        \n",
    "        print (\"Inside phone constructor\")\n",
    "        self.__price = price\n",
    "        self.brand = brand\n",
    "        self.camera = camera\n",
    "        \n",
    "    # Method\n",
    "    def buy(self):\n",
    "        if self.camera is None:\n",
    "            print(f\"Brand : {self.brand}, Price : {self.__price}\") \n",
    "            print (\"You Are Buying a FeaturePhone\")\n",
    "        else:\n",
    "            print(f\"Brand : {self.brand}, Price : {self.__price}\")\n",
    "            print (\"You Are Buying a SmartPhone\")\n",
    "            \n",
    "        print (\"Buying a phone\")\n",
    "\n",
    "\n",
    "class smartphone(Phone): # Child\n",
    "    def __init__(self,__price, brand, camera):\n",
    "        super().__init__(__price, brand, camera)\n",
    "    \n",
    "    def specification(self):\n",
    "        print(\"Inside Smart Phone\")\n",
    "        print(f\"Brand : {self.brand}, Price : {smartphone.__price}\")\n",
    "\n",
    "\n",
    "class FeaturePhone(Phone): # Child\n",
    "    def __init__(self, __price,brand, camera=None):\n",
    "        super().__init__(__price, brand, camera)\n",
    "    \n",
    "    def specification(self):\n",
    "        print(\"Inside Feature Phone\")\n",
    "        print(f\"Brand : {self.brand}, Price : {self.__price}\")\n",
    "\n",
    "\n",
    "s = smartphone(20000,\"Apple\",13)\n",
    "s.buy()\n",
    "s.specification()\n",
    "print(\"--------------------------------------------\")\n",
    "p = FeaturePhone(2000,\"Apple\",0)\n",
    "p.specification()\n",
    "p.buy()"
   ]
  },
  {
   "cell_type": "code",
   "execution_count": null,
   "metadata": {},
   "outputs": [],
   "source": []
  }
 ],
 "metadata": {
  "kernelspec": {
   "display_name": "Python 3.10.5 64-bit",
   "language": "python",
   "name": "python3"
  },
  "language_info": {
   "codemirror_mode": {
    "name": "ipython",
    "version": 3
   },
   "file_extension": ".py",
   "mimetype": "text/x-python",
   "name": "python",
   "nbconvert_exporter": "python",
   "pygments_lexer": "ipython3",
   "version": "3.10.5"
  },
  "orig_nbformat": 4,
  "vscode": {
   "interpreter": {
    "hash": "c4749c06aa3e16d2c2a5037987614f0fd71db870bc4e2fb424ca63ed32a2e6ea"
   }
  }
 },
 "nbformat": 4,
 "nbformat_minor": 2
}
