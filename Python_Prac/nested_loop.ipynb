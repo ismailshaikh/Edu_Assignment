{
 "cells": [
  {
   "cell_type": "code",
   "execution_count": 1,
   "metadata": {},
   "outputs": [
    {
     "name": "stdout",
     "output_type": "stream",
     "text": [
      "2*1 = 2\n",
      "\n",
      "2*2 = 4\n",
      "\n",
      "2*3 = 6\n",
      "\n",
      "2*4 = 8\n",
      "\n",
      "2*5 = 10\n",
      "\n",
      "2*6 = 12\n",
      "\n",
      "2*7 = 14\n",
      "\n",
      "2*8 = 16\n",
      "\n",
      "2*9 = 18\n",
      "\n",
      "2*10 = 20\n",
      "\n"
     ]
    }
   ],
   "source": [
    "start = int(input('take no.to look for table'))\n",
    "last = int(input('take no.upto where you want to look for table'))\n",
    "\n",
    "for i in range(start,last):\n",
    "    for j in range(1,11):\n",
    "        res = i*j\n",
    "        print(f\"{i}*{j} = {res}\")\n",
    "        print(\"\")"
   ]
  },
  {
   "cell_type": "markdown",
   "metadata": {},
   "source": [
    "### Enumerator( iterator, start = any number)"
   ]
  },
  {
   "cell_type": "code",
   "execution_count": 1,
   "metadata": {},
   "outputs": [],
   "source": [
    "name = [\"Akhi\",\"mano\",\"ismail\",\"sumi\"]"
   ]
  },
  {
   "cell_type": "code",
   "execution_count": 2,
   "metadata": {},
   "outputs": [
    {
     "name": "stdout",
     "output_type": "stream",
     "text": [
      "S.no. 1: Akhi\n",
      "S.no. 2: mano\n",
      "S.no. 3: ismail\n",
      "S.no. 4: sumi\n"
     ]
    }
   ],
   "source": [
    "\n",
    "for sn,n in enumerate(name,start = 1):\n",
    "    print(f\"S.no. {sn}: {n}\")"
   ]
  },
  {
   "cell_type": "code",
   "execution_count": 4,
   "metadata": {},
   "outputs": [
    {
     "name": "stdout",
     "output_type": "stream",
     "text": [
      "0\n",
      "1\n",
      "2\n"
     ]
    }
   ],
   "source": [
    "d = {0:'a',1:'b',2:'c'}\n",
    "for i in d:\n",
    "    print(i)"
   ]
  },
  {
   "cell_type": "code",
   "execution_count": 45,
   "metadata": {},
   "outputs": [
    {
     "name": "stdout",
     "output_type": "stream",
     "text": [
      "\n",
      "* \n",
      "* * \n",
      "* * * \n",
      "* * * * \n"
     ]
    }
   ],
   "source": [
    "num = int(input(\"enter number: \"))\n",
    "for i in range(num):\n",
    "    for j in range(i):\n",
    "        print(\"*\",end=\" \")\n",
    "    print()"
   ]
  },
  {
   "cell_type": "code",
   "execution_count": 44,
   "metadata": {},
   "outputs": [
    {
     "name": "stdout",
     "output_type": "stream",
     "text": [
      "    * \n",
      "   * * \n",
      "  * * * \n",
      " * * * * \n",
      "* * * * * \n"
     ]
    }
   ],
   "source": [
    "n = int(input(\"Enter pattern size: \"))\n",
    "\n",
    "k = n - 1\n",
    "\n",
    "for i in range(0, n): # rows\n",
    "\n",
    "    # space\n",
    "    for j in range(0, k):\n",
    "        print(end=\" \")\n",
    "\n",
    "\n",
    "    k = k - 1\n",
    "\n",
    "\n",
    "    # printing *\n",
    "    for j in range(0, i+1):\n",
    "        print(\"*\", end=\" \")\n",
    "\n",
    "\n",
    "    print() \n",
    "\n",
    "\n"
   ]
  },
  {
   "cell_type": "code",
   "execution_count": 46,
   "metadata": {},
   "outputs": [
    {
     "name": "stdout",
     "output_type": "stream",
     "text": [
      "* * * * * \n",
      "* * * * \n",
      "* * * \n",
      "* * \n",
      "* \n",
      "\n"
     ]
    }
   ],
   "source": [
    "num = int(input(\"enter number: \"))\n",
    "for i in range(num,num-(num)-1,-1):\n",
    "    for j in range(i):\n",
    "        print(\"*\",end=\" \")\n",
    "    print()"
   ]
  },
  {
   "cell_type": "code",
   "execution_count": 54,
   "metadata": {},
   "outputs": [
    {
     "name": "stdout",
     "output_type": "stream",
     "text": [
      "        * * * * * \n",
      "         * * * * * \n",
      "          * * * * * \n",
      "           * * * * * \n"
     ]
    }
   ],
   "source": [
    "n = int(input(\"Enter pattern size: \"))\n",
    "\n",
    "k = 2 * n - 2\n",
    "\n",
    "for i in range(n,-1,-1): # rows\n",
    "\n",
    "    # space\n",
    "    for j in range(k,0,-1):\n",
    "        print(end=\" \")\n",
    "\n",
    "    k = k + 1\n",
    "\n",
    "    # printing *\n",
    "    for j in range(0, i+1):\n",
    "        print(\"*\", end=\" \")\n",
    "\n",
    "\n",
    "    print() "
   ]
  },
  {
   "cell_type": "code",
   "execution_count": 48,
   "metadata": {},
   "outputs": [
    {
     "name": "stdout",
     "output_type": "stream",
     "text": [
      "    * \n",
      "   * * \n",
      "  * * * \n",
      " * * * * \n",
      "* * * * * \n"
     ]
    }
   ],
   "source": [
    "n=5\n",
    "k=n-1\n",
    "\n",
    "for i in range(0,n):\n",
    "    for j in range(k):\n",
    "        print(end=\" \")\n",
    "    \n",
    "    k = k-1\n",
    "    \n",
    "    for j in range(0,i+1):\n",
    "        print(\"*\",end=\" \")\n",
    "        \n",
    "    print()"
   ]
  },
  {
   "cell_type": "code",
   "execution_count": 56,
   "metadata": {},
   "outputs": [
    {
     "name": "stdout",
     "output_type": "stream",
     "text": [
      "    * \n",
      "   * * \n",
      "  * * * \n",
      " * * * * \n",
      "* * * * * \n"
     ]
    }
   ],
   "source": [
    "n = 5\n",
    "for i in range(1,n+1):\n",
    "    print(\" \"* (n-i), end =\"\")\n",
    "    print(\"* \"*i)"
   ]
  },
  {
   "cell_type": "code",
   "execution_count": 57,
   "metadata": {},
   "outputs": [
    {
     "name": "stdout",
     "output_type": "stream",
     "text": [
      "    *\n",
      "   ***\n",
      "  *****\n",
      " *******\n",
      "*********\n"
     ]
    }
   ],
   "source": [
    "for i in range(n):\n",
    "    \n",
    "    for j in range(n-i-1):\n",
    "        print(\"+\", end=\"\")\n",
    "        \n",
    "    for j in range(2*i+1):\n",
    "        print(\"*\",end=\"\")\n",
    "        \n",
    "    print()"
   ]
  },
  {
   "cell_type": "code",
   "execution_count": 62,
   "metadata": {},
   "outputs": [
    {
     "name": "stdout",
     "output_type": "stream",
     "text": [
      "    * \n",
      "   * * \n",
      "  * * * \n",
      " * * * * \n",
      "* * * * * \n",
      "None\n"
     ]
    }
   ],
   "source": [
    "# n = int(input(\"Enter pattern size: \"))\n",
    "\n",
    "\n",
    "\n",
    "def pyramid(n):\n",
    "    k = n - 1\n",
    "\n",
    "    for i in range(0, n): # rows\n",
    "\n",
    "        # space\n",
    "        for j in range(0, k):\n",
    "            print(end=\" \")\n",
    "\n",
    "\n",
    "        k = k - 1\n",
    "\n",
    "\n",
    "        # printing *\n",
    "        for j in range(0, i+1):\n",
    "            print(\"*\", end=\" \")\n",
    "\n",
    "\n",
    "        print()\n",
    "print(pyramid(5))\n"
   ]
  },
  {
   "cell_type": "code",
   "execution_count": 66,
   "metadata": {},
   "outputs": [
    {
     "name": "stdout",
     "output_type": "stream",
     "text": [
      "10\n",
      "20\n",
      "30\n",
      "40\n"
     ]
    }
   ],
   "source": [
    "is_even_list = [lambda arg=x: arg * 10 for x in range(1, 5)]\n",
    "\n",
    "# iterate on each lambda function\n",
    "# and invoke the function to get the calculated value\n",
    "for item in is_even_list:\n",
    "    print(item())"
   ]
  },
  {
   "cell_type": "code",
   "execution_count": 75,
   "metadata": {},
   "outputs": [
    {
     "data": {
      "text/plain": [
       "30"
      ]
     },
     "execution_count": 75,
     "metadata": {},
     "output_type": "execute_result"
    }
   ],
   "source": [
    "a = lambda a,b : a+b\n",
    "\n",
    "a(10,20)"
   ]
  },
  {
   "cell_type": "code",
   "execution_count": 74,
   "metadata": {},
   "outputs": [
    {
     "name": "stdout",
     "output_type": "stream",
     "text": [
      "30\n"
     ]
    }
   ],
   "source": [
    "x = lambda a, b : a * b\n",
    "print(x(5, 6))"
   ]
  },
  {
   "cell_type": "code",
   "execution_count": 77,
   "metadata": {},
   "outputs": [
    {
     "name": "stdout",
     "output_type": "stream",
     "text": [
      "Isu\n"
     ]
    }
   ],
   "source": [
    "name = \"ismail\"\n",
    "def greet():\n",
    "    name = 'Isu'\n",
    "    print(name)\n",
    "    \n",
    "greet()"
   ]
  },
  {
   "cell_type": "code",
   "execution_count": 78,
   "metadata": {},
   "outputs": [
    {
     "data": {
      "text/plain": [
       "'ismail'"
      ]
     },
     "execution_count": 78,
     "metadata": {},
     "output_type": "execute_result"
    }
   ],
   "source": [
    "name"
   ]
  },
  {
   "cell_type": "markdown",
   "metadata": {},
   "source": [
    "### Task [18-07-2023]\n",
    "\n",
    "- Calculate factorial\n",
    "- create recursive function\n",
    "- printing patterns multi pattern\n",
    "(diamond, circle, hexagon, etc)\n"
   ]
  },
  {
   "cell_type": "code",
   "execution_count": 80,
   "metadata": {},
   "outputs": [
    {
     "name": "stdout",
     "output_type": "stream",
     "text": [
      "The factorial of 5 is 120\n"
     ]
    }
   ],
   "source": [
    "def factorial(n):\n",
    "    if n == 0:\n",
    "        return 1\n",
    "    else:\n",
    "        return n * factorial(n-1)\n",
    "\n",
    "# Test the function\n",
    "n = int(input(\"Enter a number: \"))\n",
    "res = factorial(n)\n",
    "print(\"The factorial of\", n, \"is\", res)"
   ]
  },
  {
   "cell_type": "code",
   "execution_count": 81,
   "metadata": {},
   "outputs": [
    {
     "name": "stdout",
     "output_type": "stream",
     "text": [
      "          *          \n",
      "      *********      \n",
      "    *************    \n",
      "   ***************   \n",
      "  *****************  \n",
      "  *****************  \n",
      " ******************* \n",
      " ******************* \n",
      " ******************* \n",
      " ******************* \n",
      "*********************\n",
      " ******************* \n",
      " ******************* \n",
      " ******************* \n",
      " ******************* \n",
      "  *****************  \n",
      "  *****************  \n",
      "   ***************   \n",
      "    *************    \n",
      "      *********      \n",
      "          *          \n"
     ]
    }
   ],
   "source": [
    "import math\n",
    "\n",
    "def print_circle(radius):\n",
    "\n",
    "    for y in range(-radius, radius + 1):\n",
    "\n",
    "        for x in range(-radius, radius + 1):\n",
    "\n",
    "            distance = math.sqrt(x**2 + y**2)\n",
    "\n",
    "            if distance <= radius:\n",
    "                print(\"*\", end=\"\")\n",
    "\n",
    "            else:\n",
    "                print(\" \", end=\"\")\n",
    "\n",
    "        print()  # Move to the next line after printing each row\n",
    "\n",
    "# Test the function\n",
    "circle_radius = int(input(\"Enter the radius of the circle: \"))\n",
    "print_circle(circle_radius)"
   ]
  },
  {
   "cell_type": "code",
   "execution_count": 2,
   "metadata": {},
   "outputs": [
    {
     "name": "stdout",
     "output_type": "stream",
     "text": [
      "120\n"
     ]
    }
   ],
   "source": [
    "# Factorial\n",
    "i = 5\n",
    "\n",
    "fac = 1\n",
    "\n",
    "while(i>0):\n",
    "    fac = fac*i\n",
    "    i=i-1\n",
    "print(fac)"
   ]
  },
  {
   "cell_type": "code",
   "execution_count": null,
   "metadata": {},
   "outputs": [],
   "source": []
  },
  {
   "cell_type": "code",
   "execution_count": null,
   "metadata": {},
   "outputs": [],
   "source": []
  }
 ],
 "metadata": {
  "kernelspec": {
   "display_name": "Python 3.10.5 64-bit",
   "language": "python",
   "name": "python3"
  },
  "language_info": {
   "codemirror_mode": {
    "name": "ipython",
    "version": 3
   },
   "file_extension": ".py",
   "mimetype": "text/x-python",
   "name": "python",
   "nbconvert_exporter": "python",
   "pygments_lexer": "ipython3",
   "version": "3.10.5"
  },
  "orig_nbformat": 4,
  "vscode": {
   "interpreter": {
    "hash": "c4749c06aa3e16d2c2a5037987614f0fd71db870bc4e2fb424ca63ed32a2e6ea"
   }
  }
 },
 "nbformat": 4,
 "nbformat_minor": 2
}
