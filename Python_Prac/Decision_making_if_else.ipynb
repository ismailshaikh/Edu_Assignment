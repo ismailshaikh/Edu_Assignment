{
 "cells": [
  {
   "cell_type": "code",
   "execution_count": 96,
   "metadata": {},
   "outputs": [],
   "source": [
    "age= int(input(\"Enter Your Age Here  : \"))\n",
    "\n",
    "if age>18:\n",
    "    print(f\"Your Age is : {age}, You are Eligible to Vote\")\n",
    "else:\n",
    "    print(f\"Your age is {age}, You are Not Eligible to Vote\")"
   ]
  },
  {
   "cell_type": "code",
   "execution_count": null,
   "metadata": {},
   "outputs": [
    {
     "name": "stdout",
     "output_type": "stream",
     "text": [
      "Done\n"
     ]
    }
   ],
   "source": [
    "if True:\n",
    "    print(\"Done\")"
   ]
  },
  {
   "cell_type": "code",
   "execution_count": null,
   "metadata": {},
   "outputs": [
    {
     "name": "stdout",
     "output_type": "stream",
     "text": [
      "wow\n"
     ]
    }
   ],
   "source": [
    "if False:\n",
    "    print(\"Done\")\n",
    "else:\n",
    "    print(\"wow\")"
   ]
  },
  {
   "cell_type": "code",
   "execution_count": null,
   "metadata": {},
   "outputs": [
    {
     "name": "stdout",
     "output_type": "stream",
     "text": [
      "wow\n"
     ]
    }
   ],
   "source": [
    "if 0:\n",
    "    print(\"DOne\")\n",
    "else: \n",
    "    print(\"wow\")"
   ]
  },
  {
   "cell_type": "code",
   "execution_count": null,
   "metadata": {},
   "outputs": [
    {
     "name": "stdout",
     "output_type": "stream",
     "text": [
      "Done\n"
     ]
    }
   ],
   "source": [
    "if 1:\n",
    "    print(\"Done\")"
   ]
  },
  {
   "cell_type": "code",
   "execution_count": null,
   "metadata": {},
   "outputs": [],
   "source": [
    "d = {\"name\":\"Ismail\",\n",
    "    \"age\":28,\n",
    "    \"education\":\"B.COM\",\n",
    "    \"course\" : \"Data science\"\n",
    "    }"
   ]
  },
  {
   "cell_type": "code",
   "execution_count": null,
   "metadata": {},
   "outputs": [
    {
     "name": "stdout",
     "output_type": "stream",
     "text": [
      "Ismail\n",
      "Ismail\n"
     ]
    }
   ],
   "source": [
    "user_input = input(\"Search Key : \")\n",
    "\n",
    "if user_input in d.keys():\n",
    "    print(d[user_input])\n",
    "    # print(d.get(user_input))\n",
    "else:\n",
    "    print(\"Not in Dictionary\")"
   ]
  },
  {
   "cell_type": "code",
   "execution_count": null,
   "metadata": {},
   "outputs": [
    {
     "data": {
      "text/plain": [
       "dict_keys(['name', 'age', 'education', 'course'])"
      ]
     },
     "execution_count": 3,
     "metadata": {},
     "output_type": "execute_result"
    }
   ],
   "source": [
    "d.keys()"
   ]
  },
  {
   "cell_type": "code",
   "execution_count": null,
   "metadata": {},
   "outputs": [],
   "source": [
    "if d.keys()==\"age\":\n",
    "    print(\"yes\")"
   ]
  },
  {
   "cell_type": "code",
   "execution_count": null,
   "metadata": {},
   "outputs": [
    {
     "data": {
      "text/plain": [
       "dict_items([('name', 'Ismail'), ('age', 28), ('education', 'B.COM'), ('course', 'Data science')])"
      ]
     },
     "execution_count": 39,
     "metadata": {},
     "output_type": "execute_result"
    }
   ],
   "source": [
    "d.items()"
   ]
  },
  {
   "cell_type": "code",
   "execution_count": null,
   "metadata": {},
   "outputs": [
    {
     "data": {
      "text/plain": [
       "'Ismail'"
      ]
     },
     "execution_count": 41,
     "metadata": {},
     "output_type": "execute_result"
    }
   ],
   "source": [
    "d.get(\"name\")"
   ]
  },
  {
   "cell_type": "code",
   "execution_count": null,
   "metadata": {},
   "outputs": [],
   "source": [
    "\n",
    "marks = int(input(\" Check Grades , Enter Marks : \"))\n",
    "\n",
    "if 100>marks>80:\n",
    "    print(\"A+\")\n",
    "elif 80>marks>60:\n",
    "    print(\"A\")\n",
    "elif 60>marks>50:\n",
    "    print(\"B\")\n"
   ]
  },
  {
   "cell_type": "code",
   "execution_count": null,
   "metadata": {},
   "outputs": [
    {
     "name": "stdout",
     "output_type": "stream",
     "text": [
      "PM\n",
      "Good Night\n"
     ]
    }
   ],
   "source": [
    "# import time\n",
    "\n",
    "# time.ctime()\n",
    "# time.daylight\n",
    "# time.altzone\n",
    "# time.time_ns()\n",
    "\n",
    "from datetime import datetime\n",
    "print(datetime.today().strftime(\"%H:%M %p\")) # 15:31 AM\n",
    "datetime.fromtimestamp(datetime.today())"
   ]
  },
  {
   "cell_type": "markdown",
   "metadata": {},
   "source": [
    "**-----------------------------------------------------------------------------------------------------------------------------------------------------------------------------**"
   ]
  },
  {
   "cell_type": "markdown",
   "metadata": {},
   "source": [
    "#### TASK : **IF-Else** + **DATE TIME**\n",
    "1.  If your current time is **AM** --- print **Good Morning**\n",
    "2.  if its **PM** -- print **Good Night**\n",
    "\n",
    "3.  What is your clock in 24 hrs\n",
    "\n",
    "4.  less than **12:00 hrs** good morning\n",
    "5 . greater than **12:00 hrs** good night\n"
   ]
  },
  {
   "cell_type": "code",
   "execution_count": 13,
   "metadata": {},
   "outputs": [
    {
     "name": "stdout",
     "output_type": "stream",
     "text": [
      "Good Night\n"
     ]
    }
   ],
   "source": [
    "from datetime import datetime\n",
    "if datetime.today().strftime(\"%p\") == \"PM\" and int(datetime.now().strftime(\"%H\")) >12<=24:\n",
    "    print(\"Good Night\")\n",
    "elif datetime.today().strftime(\"%p\") == \"AM\" and int(datetime.now().strftime(\"%H\")) <=0<=12:\n",
    "    print(\"Good Morning\")\n",
    "else:\n",
    "    print(\"Something Wrong is Going On\")"
   ]
  },
  {
   "cell_type": "code",
   "execution_count": null,
   "metadata": {},
   "outputs": [
    {
     "data": {
      "text/plain": [
       "'21:15 PM'"
      ]
     },
     "execution_count": 84,
     "metadata": {},
     "output_type": "execute_result"
    }
   ],
   "source": [
    "datetime.now().strftime(\"%H:%M %p\")\n"
   ]
  },
  {
   "cell_type": "code",
   "execution_count": null,
   "metadata": {},
   "outputs": [
    {
     "name": "stdout",
     "output_type": "stream",
     "text": [
      "21\n",
      "09:07 PM\n"
     ]
    }
   ],
   "source": [
    "tody = datetime.now()\n",
    "\n",
    "print(tody.strftime(\"%H\"))\n",
    "\n",
    "print(tody.strftime(\"%I:%m %p\"))\n"
   ]
  },
  {
   "cell_type": "code",
   "execution_count": null,
   "metadata": {},
   "outputs": [
    {
     "data": {
      "text/plain": [
       "'09:07 PM'"
      ]
     },
     "execution_count": 94,
     "metadata": {},
     "output_type": "execute_result"
    }
   ],
   "source": [
    "tody.strftime(\"%I:%m %p\")"
   ]
  },
  {
   "cell_type": "code",
   "execution_count": 3,
   "metadata": {},
   "outputs": [
    {
     "data": {
      "text/plain": [
       "{'name': ['Ismail', 'Sumit', 'Akhilesh'],\n",
       " 'course': {'Data science': ['Python', 'SQL', 'EXCEL', 'BI']}}"
      ]
     },
     "execution_count": 3,
     "metadata": {},
     "output_type": "execute_result"
    }
   ],
   "source": [
    "# if Else With Logical Operator\n",
    "\n",
    "d1 = {\"name\":[\"Ismail\",\"Sumit\",\"Akhilesh\"],\n",
    "    \"course\" : {\"Data science\":[\"Python\",\"SQL\",\"EXCEL\",\"BI\"]}\n",
    "    }\n",
    "d1"
   ]
  },
  {
   "cell_type": "code",
   "execution_count": 4,
   "metadata": {},
   "outputs": [
    {
     "data": {
      "text/plain": [
       "dict_keys(['name', 'course'])"
      ]
     },
     "execution_count": 4,
     "metadata": {},
     "output_type": "execute_result"
    }
   ],
   "source": [
    "d1.keys() "
   ]
  },
  {
   "cell_type": "code",
   "execution_count": 5,
   "metadata": {},
   "outputs": [
    {
     "ename": "SyntaxError",
     "evalue": "expected ':' (128657432.py, line 2)",
     "output_type": "error",
     "traceback": [
      "\u001b[1;36m  Cell \u001b[1;32mIn[5], line 2\u001b[1;36m\u001b[0m\n\u001b[1;33m    if \"ismail\" in d1.values()\u001b[0m\n\u001b[1;37m                               ^\u001b[0m\n\u001b[1;31mSyntaxError\u001b[0m\u001b[1;31m:\u001b[0m expected ':'\n"
     ]
    }
   ],
   "source": [
    "if \"name\" in d1.keys() and \"course\" in d1.keys():\n",
    "    if \"ismail\" in d1.values() "
   ]
  },
  {
   "cell_type": "code",
   "execution_count": null,
   "metadata": {},
   "outputs": [],
   "source": [
    "n = input()\n",
    "age = input\n",
    "\n"
   ]
  }
 ],
 "metadata": {
  "kernelspec": {
   "display_name": "Python 3",
   "language": "python",
   "name": "python3"
  },
  "language_info": {
   "codemirror_mode": {
    "name": "ipython",
    "version": 3
   },
   "file_extension": ".py",
   "mimetype": "text/x-python",
   "name": "python",
   "nbconvert_exporter": "python",
   "pygments_lexer": "ipython3",
   "version": "3.10.5"
  },
  "vscode": {
   "interpreter": {
    "hash": "c4749c06aa3e16d2c2a5037987614f0fd71db870bc4e2fb424ca63ed32a2e6ea"
   }
  }
 },
 "nbformat": 4,
 "nbformat_minor": 2
}
