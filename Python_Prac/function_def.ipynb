{
 "cells": [
  {
   "cell_type": "markdown",
   "metadata": {},
   "source": [
    "## **Fuction Arguments** in Python\n",
    "\n",
    "- Positional \n",
    "- Keyword\n",
    "- Variable Positional\n",
    "- Variable Keyword\n",
    "- Keyword Only"
   ]
  },
  {
   "cell_type": "code",
   "execution_count": 1,
   "metadata": {},
   "outputs": [
    {
     "name": "stdout",
     "output_type": "stream",
     "text": [
      "3 4 5\n"
     ]
    }
   ],
   "source": [
    "# Positional Argument\n",
    "def func(a,b,c):\n",
    "    print(a,b,c)\n",
    "    \n",
    "func(3,4,5)"
   ]
  },
  {
   "cell_type": "code",
   "execution_count": 3,
   "metadata": {},
   "outputs": [
    {
     "name": "stdout",
     "output_type": "stream",
     "text": [
      "4 3 5\n"
     ]
    }
   ],
   "source": [
    "# Keyword Argument\n",
    "def func(a,b,c):\n",
    "    print(a,b,c)\n",
    "    \n",
    "func(b=3,a=4,c=5)"
   ]
  },
  {
   "cell_type": "code",
   "execution_count": 5,
   "metadata": {},
   "outputs": [
    {
     "name": "stdout",
     "output_type": "stream",
     "text": [
      "3 5 4\n"
     ]
    }
   ],
   "source": [
    "\n",
    "def func(a,b,c):\n",
    "    print(a,b,c)\n",
    "    \n",
    "func(3,c=4,b=5) # Keyword only argument"
   ]
  },
  {
   "cell_type": "code",
   "execution_count": 7,
   "metadata": {},
   "outputs": [
    {
     "data": {
      "text/plain": [
       "45"
      ]
     },
     "execution_count": 7,
     "metadata": {},
     "output_type": "execute_result"
    }
   ],
   "source": [
    "# Variable Positional Argument (*args)\n",
    "\n",
    "def addition(*args):\n",
    "    sm = 0\n",
    "    for arg in args:\n",
    "        sm+=arg\n",
    "    return sm\n",
    "    \n",
    "addition(1,2,3,4,5,6,7,8,9)"
   ]
  },
  {
   "cell_type": "code",
   "execution_count": 10,
   "metadata": {},
   "outputs": [
    {
     "name": "stdout",
     "output_type": "stream",
     "text": [
      "name == Ismail\n",
      "Course == DA\n"
     ]
    }
   ],
   "source": [
    "# Variable keyword Arguments\n",
    "def fun(**kwargs):\n",
    "    \n",
    "    for key, value in kwargs.items():\n",
    "    \n",
    "        print(f\"{key} == {value}\")\n",
    "\n",
    "fun(name='Ismail', course='DA')\n"
   ]
  },
  {
   "cell_type": "code",
   "execution_count": 13,
   "metadata": {},
   "outputs": [],
   "source": [
    "# Keyword Only Argument\n",
    "\n",
    "def func(*marks,name):\n",
    "    print(marks,\" : \",name)"
   ]
  },
  {
   "cell_type": "code",
   "execution_count": 17,
   "metadata": {},
   "outputs": [
    {
     "name": "stdout",
     "output_type": "stream",
     "text": [
      "(10,)  :  Ismail\n",
      "None\n",
      "(10, 20, 30)  :  Ismail\n"
     ]
    }
   ],
   "source": [
    "# func(10,\"Ismail\") # TypeError: func() missing 1 required keyword-only argument: 'name'\n",
    "\n",
    "print(func(10 , name=\"Ismail\"))\n",
    "func(10,20,30 , name=\"Ismail\")\n",
    "    "
   ]
  },
  {
   "cell_type": "markdown",
   "metadata": {},
   "source": [
    "### Task\n",
    "- **Positional** Arguments\n",
    "- **Variable length** Arguments (*args, **kwargs)"
   ]
  },
  {
   "cell_type": "code",
   "execution_count": 29,
   "metadata": {},
   "outputs": [
    {
     "data": {
      "text/plain": [
       "'a = 3, b = 2, a = 4'"
      ]
     },
     "execution_count": 29,
     "metadata": {},
     "output_type": "execute_result"
    }
   ],
   "source": [
    "# Positional\n",
    "\n",
    "def positiona(a,b,c):\n",
    "    # return a+b+c\n",
    "    return f\"a = {a}, b = {b}, a = {c}\"\n",
    "\n",
    "positiona(2,3,4)\n",
    "positiona(3,2,4)"
   ]
  },
  {
   "cell_type": "code",
   "execution_count": 25,
   "metadata": {},
   "outputs": [
    {
     "data": {
      "text/plain": [
       "143"
      ]
     },
     "execution_count": 25,
     "metadata": {},
     "output_type": "execute_result"
    }
   ],
   "source": [
    "# Variable Length (*args) variable positional\n",
    "def fuc(*args):\n",
    "    sm = 0\n",
    "    for arg in args:\n",
    "        sm += arg \n",
    "    return sm\n",
    "\n",
    "fuc(2,3,4)\n",
    "\n",
    "fuc(2,3,4,56,6,6,66)\n"
   ]
  },
  {
   "cell_type": "code",
   "execution_count": 26,
   "metadata": {},
   "outputs": [
    {
     "data": {
      "text/plain": [
       "'name == ismail'"
      ]
     },
     "execution_count": 26,
     "metadata": {},
     "output_type": "execute_result"
    }
   ],
   "source": [
    "# Variable Length (*kwargs)\n",
    "\n",
    "def fun(**kwargs):\n",
    "    for key,value in kwargs.items():\n",
    "        return f\"{key} == {value}\"\n",
    "\n",
    "fun(name=\"ismail\",course = \"DA\")\n"
   ]
  },
  {
   "cell_type": "code",
   "execution_count": 2,
   "metadata": {},
   "outputs": [
    {
     "name": "stdout",
     "output_type": "stream",
     "text": [
      "528.0\n"
     ]
    }
   ],
   "source": [
    "def get_pay(num_hours):\n",
    "    # Pre-tax pay, based on receiving $15/hour\n",
    "    pay_pretax = num_hours * 15\n",
    "    # After-tax pay, based on being in 12% tax bracket\n",
    "    pay_aftertax = pay_pretax * (1 - 0.12)\n",
    "    return pay_aftertax\n",
    "\n",
    "# Calculate pay based on working 40 hours\n",
    "pay_fulltime = get_pay(40)\n",
    "print(pay_fulltime)"
   ]
  },
  {
   "cell_type": "code",
   "execution_count": 3,
   "metadata": {},
   "outputs": [
    {
     "name": "stdout",
     "output_type": "stream",
     "text": [
      "748.8000000000001\n"
     ]
    }
   ],
   "source": [
    "def get_pay_with_more_inputs(num_hours,hourly_wage,tax_bracket):\n",
    "    pay_pretax=num_hours*hourly_wage\n",
    "    pay_aftertax = pay_pretax*(1-tax_bracket)\n",
    "    return pay_aftertax\n",
    "\n",
    "print(get_pay_with_more_inputs(40,24,0.22))"
   ]
  },
  {
   "cell_type": "code",
   "execution_count": null,
   "metadata": {},
   "outputs": [],
   "source": []
  }
 ],
 "metadata": {
  "kernelspec": {
   "display_name": "Python 3.10.5 64-bit",
   "language": "python",
   "name": "python3"
  },
  "language_info": {
   "codemirror_mode": {
    "name": "ipython",
    "version": 3
   },
   "file_extension": ".py",
   "mimetype": "text/x-python",
   "name": "python",
   "nbconvert_exporter": "python",
   "pygments_lexer": "ipython3",
   "version": "3.10.5"
  },
  "orig_nbformat": 4,
  "vscode": {
   "interpreter": {
    "hash": "c4749c06aa3e16d2c2a5037987614f0fd71db870bc4e2fb424ca63ed32a2e6ea"
   }
  }
 },
 "nbformat": 4,
 "nbformat_minor": 2
}
