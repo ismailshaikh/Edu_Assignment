{
 "cells": [
  {
   "cell_type": "markdown",
   "metadata": {},
   "source": [
    "## Create a Set with {} and set function\n",
    "\n",
    "- perform following operations\n",
    "    1. type\n",
    "    2. length\n",
    "    3. Remove\n",
    "    4. add\n",
    "    5. update\n",
    "    6. clear\n",
    "    7. loop\n",
    "    8. union\n",
    "    9. Intersection\n",
    "    10. Difference"
   ]
  },
  {
   "cell_type": "code",
   "execution_count": 8,
   "metadata": {},
   "outputs": [
    {
     "data": {
      "text/plain": [
       "set"
      ]
     },
     "execution_count": 8,
     "metadata": {},
     "output_type": "execute_result"
    }
   ],
   "source": [
    "s = {\"apple\", \"banana\", \"cherry\"}\n",
    "type(s)\n",
    "\n",
    "# 1. type\n"
   ]
  },
  {
   "cell_type": "code",
   "execution_count": 9,
   "metadata": {},
   "outputs": [
    {
     "data": {
      "text/plain": [
       "3"
      ]
     },
     "execution_count": 9,
     "metadata": {},
     "output_type": "execute_result"
    }
   ],
   "source": [
    "    # 2. length\n",
    "len(s)"
   ]
  },
  {
   "cell_type": "code",
   "execution_count": 10,
   "metadata": {},
   "outputs": [],
   "source": [
    "    # 3.Add\n",
    "s.add(\"Mango\")"
   ]
  },
  {
   "cell_type": "code",
   "execution_count": 12,
   "metadata": {},
   "outputs": [
    {
     "data": {
      "text/plain": [
       "{'CHerry', 'Mango', 'apple', 'banana', 'cherry'}"
      ]
     },
     "execution_count": 12,
     "metadata": {},
     "output_type": "execute_result"
    }
   ],
   "source": [
    "s.add(\"CHerry\")\n",
    "s"
   ]
  },
  {
   "cell_type": "code",
   "execution_count": 3,
   "metadata": {},
   "outputs": [],
   "source": [
    "    # 4. Remove\n",
    "s.remove(\"banana\")\n",
    "s.pop(\"CHerry\")\n",
    "s.clear()"
   ]
  },
  {
   "cell_type": "code",
   "execution_count": 14,
   "metadata": {},
   "outputs": [],
   "source": [
    "    # 5. update\n",
    "t2 = {\"pineapple\", \"mango\", \"papaya\"}\n",
    "s.update(t2)\n"
   ]
  },
  {
   "cell_type": "code",
   "execution_count": 15,
   "metadata": {},
   "outputs": [
    {
     "data": {
      "text/plain": [
       "{'CHerry',\n",
       " 'Mango',\n",
       " 'apple',\n",
       " 'banana',\n",
       " 'cherry',\n",
       " 'mango',\n",
       " 'papaya',\n",
       " 'pineapple'}"
      ]
     },
     "execution_count": 15,
     "metadata": {},
     "output_type": "execute_result"
    }
   ],
   "source": [
    "s"
   ]
  },
  {
   "cell_type": "code",
   "execution_count": 5,
   "metadata": {},
   "outputs": [],
   "source": []
  },
  {
   "cell_type": "code",
   "execution_count": 21,
   "metadata": {},
   "outputs": [
    {
     "name": "stdout",
     "output_type": "stream",
     "text": [
      "cherry\n",
      "mango\n",
      "CHerry\n",
      "apple\n",
      "papaya\n",
      "banana\n",
      "Mango\n",
      "pineapple\n"
     ]
    }
   ],
   "source": [
    "    # 7. loop\n",
    "    \n",
    "\n",
    "\n",
    "for x in s:\n",
    "  print(x)"
   ]
  },
  {
   "cell_type": "code",
   "execution_count": 22,
   "metadata": {},
   "outputs": [
    {
     "data": {
      "text/plain": [
       "{'CHerry',\n",
       " 'Mango',\n",
       " 'apple',\n",
       " 'banana',\n",
       " 'cherry',\n",
       " 'mango',\n",
       " 'papaya',\n",
       " 'pineapple'}"
      ]
     },
     "execution_count": 22,
     "metadata": {},
     "output_type": "execute_result"
    }
   ],
   "source": [
    "    # 8. union\n",
    "    \n",
    "s.union(t2)\n"
   ]
  },
  {
   "cell_type": "code",
   "execution_count": 23,
   "metadata": {},
   "outputs": [
    {
     "data": {
      "text/plain": [
       "{'mango', 'papaya', 'pineapple'}"
      ]
     },
     "execution_count": 23,
     "metadata": {},
     "output_type": "execute_result"
    }
   ],
   "source": [
    "    # 9. Intersection\n",
    "s.intersection(t2)"
   ]
  },
  {
   "cell_type": "code",
   "execution_count": 24,
   "metadata": {},
   "outputs": [
    {
     "data": {
      "text/plain": [
       "{'CHerry', 'Mango', 'apple', 'banana', 'cherry'}"
      ]
     },
     "execution_count": 24,
     "metadata": {},
     "output_type": "execute_result"
    }
   ],
   "source": [
    "\n",
    "    # 10. Difference\n",
    "    \n",
    "    s.difference(t2)"
   ]
  },
  {
   "cell_type": "markdown",
   "metadata": {},
   "source": [
    "-------------------------------------------------------------------"
   ]
  },
  {
   "cell_type": "markdown",
   "metadata": {},
   "source": [
    "- Frozen Set\n",
    "- Type Castinh  ( Implisit, Explicit)"
   ]
  },
  {
   "cell_type": "code",
   "execution_count": 1,
   "metadata": {},
   "outputs": [],
   "source": [
    "fs = frozenset([1,2,3,4,5])"
   ]
  },
  {
   "cell_type": "code",
   "execution_count": 2,
   "metadata": {},
   "outputs": [
    {
     "data": {
      "text/plain": [
       "frozenset({1, 2, 3, 4, 5})"
      ]
     },
     "execution_count": 2,
     "metadata": {},
     "output_type": "execute_result"
    }
   ],
   "source": [
    "fs"
   ]
  },
  {
   "cell_type": "markdown",
   "metadata": {},
   "source": [
    "### Task\n",
    "- Int - Float vice versa\n",
    "- str - int \n",
    "- complex - int\n",
    "- complex - str\n",
    "- str - Bool\n"
   ]
  },
  {
   "cell_type": "code",
   "execution_count": 43,
   "metadata": {},
   "outputs": [
    {
     "name": "stdout",
     "output_type": "stream",
     "text": [
      "12\n",
      "<class 'int'>\n",
      "12.0\n",
      "<class 'float'>\n",
      "<class 'int'>\n"
     ]
    }
   ],
   "source": [
    "# Int - Float \n",
    "# Float - int\n",
    "\n",
    "i = 12\n",
    "print(i)\n",
    "print(type(i))\n",
    "\n",
    "f = float(i)\n",
    "print(f)\n",
    "print(type(f))\n",
    "\n",
    "# float - int\n",
    "print(type(int(f)))"
   ]
  },
  {
   "cell_type": "code",
   "execution_count": 44,
   "metadata": {},
   "outputs": [
    {
     "name": "stdout",
     "output_type": "stream",
     "text": [
      "<class 'float'>\n"
     ]
    }
   ],
   "source": [
    "print(type(i+f))"
   ]
  },
  {
   "cell_type": "code",
   "execution_count": 45,
   "metadata": {},
   "outputs": [
    {
     "name": "stdout",
     "output_type": "stream",
     "text": [
      "<class 'str'>\n",
      "18\n",
      "After conversion\n",
      "<class 'int'>\n"
     ]
    }
   ],
   "source": [
    "# str - int \n",
    "\n",
    "s = \"18\"\n",
    "print(type(s))\n",
    "print(s)\n",
    "\n",
    "print(\"After conversion\")\n",
    "\n",
    "print(type(int(s)))\n",
    "\n"
   ]
  },
  {
   "cell_type": "code",
   "execution_count": 46,
   "metadata": {},
   "outputs": [
    {
     "name": "stdout",
     "output_type": "stream",
     "text": [
      "<class 'complex'>\n",
      "(3+5j)\n",
      "3\n",
      "5\n",
      "<class 'int'>\n",
      "(5+0j)\n",
      "<class 'complex'>\n"
     ]
    }
   ],
   "source": [
    "# - complex - int\n",
    "c = 3+5j\n",
    "print(type(c))\n",
    "print(c)\n",
    "\n",
    "print(int(c.real))\n",
    "c.imag\n",
    "\n",
    "a = int(c.imag)\n",
    "print(a)\n",
    "print(type(a))\n",
    "\n",
    "a = complex(a)\n",
    "print(a)\n",
    "print(type(a))"
   ]
  },
  {
   "cell_type": "code",
   "execution_count": 47,
   "metadata": {},
   "outputs": [
    {
     "name": "stdout",
     "output_type": "stream",
     "text": [
      "(5+0j)\n",
      "<class 'complex'>\n",
      "<class 'str'>\n",
      "(5+0j)\n"
     ]
    }
   ],
   "source": [
    "# - complex - str\n",
    "\n",
    "print(a) \n",
    "print(type(a))\n",
    "\n",
    "a= str(a)\n",
    "print(type(a))\n",
    "print(a)\n"
   ]
  },
  {
   "cell_type": "code",
   "execution_count": 48,
   "metadata": {},
   "outputs": [
    {
     "name": "stdout",
     "output_type": "stream",
     "text": [
      "<class 'str'>\n",
      "(5+0j)\n",
      "<class 'bool'>\n",
      "True\n"
     ]
    }
   ],
   "source": [
    "# - str - Bool\n",
    "\n",
    "print(type(a))\n",
    "print(a)\n",
    "\n",
    "a = bool(a)\n",
    "\n",
    "print(type(a))\n",
    "print(a)"
   ]
  },
  {
   "cell_type": "code",
   "execution_count": 59,
   "metadata": {},
   "outputs": [],
   "source": [
    "l1 = [1,2,3]\n",
    "l2 = ['ismail',\"Akhi\",\"sumit\"]\n",
    "\n"
   ]
  },
  {
   "cell_type": "code",
   "execution_count": 63,
   "metadata": {},
   "outputs": [
    {
     "name": "stdout",
     "output_type": "stream",
     "text": [
      "{1: 'ismail', 2: 'ravi', 3: 'akhi'}\n"
     ]
    }
   ],
   "source": [
    "def dictconvert(ls):\n",
    "    keys = ls[::2] \n",
    "    values = ls[1::2]\n",
    "    res = {keys[i] : values[i] for i in range(len(keys))}\n",
    "    return res\n",
    "\n",
    "l3 = [1,\"ismail\",2,\"ravi\",3,\"akhi\"]\n",
    "print(dictconvert(l3))"
   ]
  },
  {
   "cell_type": "code",
   "execution_count": 64,
   "metadata": {},
   "outputs": [
    {
     "name": "stdout",
     "output_type": "stream",
     "text": [
      "{1: 'ismail', 2: 'Akhi', 3: 'sumit'}\n"
     ]
    }
   ],
   "source": [
    "def dictconv2(l1,l2):\n",
    "    keys = l1\n",
    "    val = l2\n",
    "    res = {keys[i] : val[i] for i in range(len(keys))}\n",
    "    return res\n",
    "\n",
    "print(dictconv2(l1,l2))"
   ]
  },
  {
   "cell_type": "code",
   "execution_count": 70,
   "metadata": {},
   "outputs": [
    {
     "name": "stdout",
     "output_type": "stream",
     "text": [
      "1 : ismail, 2 : Akhi, 3 : sumit, "
     ]
    }
   ],
   "source": [
    "for i in range(len(l1)):\n",
    "    print(l1[i] ,\":\", l2[i],end=\", \" )"
   ]
  },
  {
   "cell_type": "code",
   "execution_count": null,
   "metadata": {},
   "outputs": [],
   "source": []
  }
 ],
 "metadata": {
  "kernelspec": {
   "display_name": "Python 3.10.5 64-bit",
   "language": "python",
   "name": "python3"
  },
  "language_info": {
   "codemirror_mode": {
    "name": "ipython",
    "version": 3
   },
   "file_extension": ".py",
   "mimetype": "text/x-python",
   "name": "python",
   "nbconvert_exporter": "python",
   "pygments_lexer": "ipython3",
   "version": "3.10.5"
  },
  "orig_nbformat": 4,
  "vscode": {
   "interpreter": {
    "hash": "c4749c06aa3e16d2c2a5037987614f0fd71db870bc4e2fb424ca63ed32a2e6ea"
   }
  }
 },
 "nbformat": 4,
 "nbformat_minor": 2
}
