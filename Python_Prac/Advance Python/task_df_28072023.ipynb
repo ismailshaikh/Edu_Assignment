{
 "cells": [
  {
   "cell_type": "markdown",
   "metadata": {},
   "source": [
    "1. You must be aware of terms AM and PM, \n",
    "    - (terms used to define the time of day AM for time before\n",
    "        midday and PM for time after midday). \n",
    "    - You will be given a string time denoting the time of day in 24\n",
    "        hrs format (HH:MM). \n",
    "    - You are asked to answer whether the time is AM or PM.\n",
    "\n",
    "\n",
    "\n",
    "2. The problem is to count the number of occurrences of A in \"Shaktimaan.\n",
    "\n",
    "\n",
    "3. Ivans wants to give an O level examination to prove that he has a good IQ. In his universe, \n",
    "    - an Olevel exam simply asks you to tell if a string given to you has a character 'o' or not. \n",
    "    - To make the task tough, he is given two strings.\n",
    "    -  Write a program for the same.\n",
    "\n",
    "4. Wall - E is a robot, that will work only if you solve for him a problem. \n",
    "    - The problem is to count thenumber of occurrences of E in any given string.\n",
    "    - You have to return the count, which is an integer."
   ]
  },
  {
   "cell_type": "code",
   "execution_count": 6,
   "metadata": {},
   "outputs": [
    {
     "data": {
      "text/html": [
       "<div>\n",
       "<style scoped>\n",
       "    .dataframe tbody tr th:only-of-type {\n",
       "        vertical-align: middle;\n",
       "    }\n",
       "\n",
       "    .dataframe tbody tr th {\n",
       "        vertical-align: top;\n",
       "    }\n",
       "\n",
       "    .dataframe thead th {\n",
       "        text-align: right;\n",
       "    }\n",
       "</style>\n",
       "<table border=\"1\" class=\"dataframe\">\n",
       "  <thead>\n",
       "    <tr style=\"text-align: right;\">\n",
       "      <th></th>\n",
       "      <th>Brand</th>\n",
       "      <th>price</th>\n",
       "    </tr>\n",
       "  </thead>\n",
       "  <tbody>\n",
       "    <tr>\n",
       "      <th>0</th>\n",
       "      <td>Apple</td>\n",
       "      <td>150000</td>\n",
       "    </tr>\n",
       "    <tr>\n",
       "      <th>1</th>\n",
       "      <td>Samsung</td>\n",
       "      <td>100000</td>\n",
       "    </tr>\n",
       "    <tr>\n",
       "      <th>2</th>\n",
       "      <td>Google</td>\n",
       "      <td>75000</td>\n",
       "    </tr>\n",
       "  </tbody>\n",
       "</table>\n",
       "</div>"
      ],
      "text/plain": [
       "     Brand   price\n",
       "0    Apple  150000\n",
       "1  Samsung  100000\n",
       "2   Google   75000"
      ]
     },
     "execution_count": 6,
     "metadata": {},
     "output_type": "execute_result"
    }
   ],
   "source": [
    "import pandas as pd\n",
    "\n",
    "l = [[\"Apple\",150000],\n",
    "    [\"Samsung\",100000],\n",
    "    [\"Google\",75000]]\n",
    "\n",
    "a = pd.DataFrame(l, columns=[\"Brand\",\"price\"])\n",
    "\n",
    "a"
   ]
  },
  {
   "cell_type": "code",
   "execution_count": 10,
   "metadata": {},
   "outputs": [
    {
     "data": {
      "text/plain": [
       "0    150000\n",
       "1    100000\n",
       "2     75000\n",
       "Name: price, dtype: int64"
      ]
     },
     "execution_count": 10,
     "metadata": {},
     "output_type": "execute_result"
    }
   ],
   "source": [
    "a[\"Brand\"]\n",
    "a[\"price\"]"
   ]
  },
  {
   "cell_type": "markdown",
   "metadata": {},
   "source": [
    "----------------------------------------------------------------------------------------------\n",
    "1. You must be aware of terms AM and PM, \n",
    "    - (terms used to define the time of day AM for time before\n",
    "        midday and PM for time after midday). \n",
    "    - You will be given a string time denoting the time of day in 24\n",
    "        hrs format (HH:MM). \n",
    "    - You are asked to answer whether the time is AM or PM."
   ]
  },
  {
   "cell_type": "code",
   "execution_count": 16,
   "metadata": {},
   "outputs": [
    {
     "name": "stdout",
     "output_type": "stream",
     "text": [
      "AM\n",
      "PM\n",
      "Invalid format. Hours range 00 to 23.\n",
      "AM\n"
     ]
    }
   ],
   "source": [
    "    \n",
    "def get_am_or_pm(time_str):\n",
    "    try:\n",
    "        h, m = map(int, time_str.split(':'))\n",
    "        if 0 <= h <= 11:\n",
    "            return \"AM\"\n",
    "\n",
    "        elif 12 <= h <= 23:\n",
    "            return \"PM\"\n",
    "        else:\n",
    "            return \"Invalid format. Hours range 00 to 23.\"\n",
    "\n",
    "    except ValueError:\n",
    "        return \"Invalid format. Please provide time in the format HH:MM.\"\n",
    "\n",
    "\n",
    "print(get_am_or_pm(\"09:30\"))  # Output: AM\n",
    "print(get_am_or_pm(\"15:45\"))  # Output: PM\n",
    "print(get_am_or_pm(\"24:00\"))  # Output: Invalid time format. Hours should be in the range 00 to 23.\n",
    "print(get_am_or_pm(\"10:62\")) \n"
   ]
  },
  {
   "cell_type": "markdown",
   "metadata": {},
   "source": [
    "------------------------------------------------------------------------------------------------------------------------------------------------------------------------------------------"
   ]
  },
  {
   "cell_type": "markdown",
   "metadata": {},
   "source": [
    "The problem is to count the number of occurrences of A in \"Shaktimaan."
   ]
  },
  {
   "cell_type": "code",
   "execution_count": 16,
   "metadata": {},
   "outputs": [
    {
     "name": "stdout",
     "output_type": "stream",
     "text": [
      "a\n",
      "a\n",
      "a\n",
      "3\n"
     ]
    }
   ],
   "source": [
    "\n",
    "s = \"Shaktimaan\"\n",
    "c = 0 \n",
    "for i in s:\n",
    "    if i==\"a\":\n",
    "        c+=1\n",
    "        print(i)\n",
    "print(c)"
   ]
  },
  {
   "cell_type": "code",
   "execution_count": 26,
   "metadata": {},
   "outputs": [],
   "source": [
    "def count_character(s,ch):\n",
    "    c = 0\n",
    "    for i in s.lower():\n",
    "        if i == ch:\n",
    "            c+=1\n",
    "    return c"
   ]
  },
  {
   "cell_type": "code",
   "execution_count": 29,
   "metadata": {},
   "outputs": [
    {
     "data": {
      "text/plain": [
       "1"
      ]
     },
     "execution_count": 29,
     "metadata": {},
     "output_type": "execute_result"
    }
   ],
   "source": [
    "count_character(\"Shaktimaan\",'s')\n",
    "count_character(\"Shaktimaan\",'m')\n",
    "count_character(\"Shaktimaan\",'a')"
   ]
  },
  {
   "cell_type": "markdown",
   "metadata": {},
   "source": [
    "---------------------------------------------------------------------------------------------------------------------------------\n",
    "3. Ivans wants to give an O level examination to prove that he has a good IQ. In his universe, \n",
    "    - an Olevel exam simply asks you to tell if a string given to you has a character 'o' or not. \n",
    "    - To make the task tough, he is given two strings.\n",
    "    -  Write a program for the same."
   ]
  },
  {
   "cell_type": "code",
   "execution_count": 6,
   "metadata": {},
   "outputs": [
    {
     "name": "stdout",
     "output_type": "stream",
     "text": [
      "The first String 'hello' Contains 'o' \n",
      "The first String 'ismail' Contains 'i' \n"
     ]
    }
   ],
   "source": [
    "def check_charcter_in_str(s,ch):\n",
    "\n",
    "    try:\n",
    "        if ch in str(s).lower():        \n",
    "            return True\n",
    "        else:\n",
    "            return False\n",
    "    except Exception as e:\n",
    "        print(e)\n",
    "        \n",
    "            \n",
    "def run_check():\n",
    "    try:\n",
    "        s1 = input(\"Enter the first String: \")\n",
    "        ch1 = input(\"Enter the Char looking for : \")\n",
    "        s2 = input(\"Enter the first String: \")\n",
    "        ch2 = input(\"Enter the Char looking for : \")\n",
    "        \n",
    "        if check_charcter_in_str(s1,ch1):\n",
    "            print(f\"The first String '{s1}' Contains '{ch1}' \")\n",
    "        else:\n",
    "            print(f\"first String '{s1}' Does Not Contain '{ch1}' \")\n",
    "            \n",
    "        if check_charcter_in_str(s2,ch2):\n",
    "            print(f\"The first String '{s2}' Contains '{ch2}' \")\n",
    "        else:\n",
    "            print(f\"first String '{s2}' Does Not Contain '{ch2}' \")\n",
    "    except Exception as e:\n",
    "        print(e)\n",
    "        \n",
    "if __name__ == '__main__':\n",
    "    run_check()"
   ]
  },
  {
   "cell_type": "code",
   "execution_count": 7,
   "metadata": {},
   "outputs": [
    {
     "name": "stdout",
     "output_type": "stream",
     "text": [
      "first String 'edubridge' Does Not Contain 'o' \n",
      "The first String 'python' Contains 'p' \n"
     ]
    }
   ],
   "source": [
    "run_check()"
   ]
  },
  {
   "cell_type": "markdown",
   "metadata": {},
   "source": [
    "---------------------------------------------------------------------------------------------------------------------------------------------\n",
    "4. Wall - E is a robot, that will work only if you solve for him a problem. \n",
    "    - The problem is to count thenumber of occurrences of E in any given string.\n",
    "    - You have to return the count, which is an integer.\n"
   ]
  },
  {
   "cell_type": "code",
   "execution_count": 10,
   "metadata": {},
   "outputs": [],
   "source": [
    "\n",
    "def char_e_counter(s):\n",
    "    try:\n",
    "        c = 0\n",
    "        s_lower = str(s).lower()\n",
    "        for i in s_lower:\n",
    "            if i == \"e\":\n",
    "                c+=1\n",
    "        return f\" Char 'E' count in string {s} : {c} \"\n",
    "    except Exception as e:\n",
    "        print(e)"
   ]
  },
  {
   "cell_type": "code",
   "execution_count": 15,
   "metadata": {},
   "outputs": [
    {
     "data": {
      "text/plain": [
       "\" Char 'E' count in string Exclusiveeeee : 6 \""
      ]
     },
     "execution_count": 15,
     "metadata": {},
     "output_type": "execute_result"
    }
   ],
   "source": [
    "char_e_counter(\"Exclusiveeeee\")"
   ]
  },
  {
   "cell_type": "code",
   "execution_count": null,
   "metadata": {},
   "outputs": [],
   "source": []
  }
 ],
 "metadata": {
  "kernelspec": {
   "display_name": "Python 3.10.5 64-bit",
   "language": "python",
   "name": "python3"
  },
  "language_info": {
   "codemirror_mode": {
    "name": "ipython",
    "version": 3
   },
   "file_extension": ".py",
   "mimetype": "text/x-python",
   "name": "python",
   "nbconvert_exporter": "python",
   "pygments_lexer": "ipython3",
   "version": "3.10.5"
  },
  "orig_nbformat": 4,
  "vscode": {
   "interpreter": {
    "hash": "c4749c06aa3e16d2c2a5037987614f0fd71db870bc4e2fb424ca63ed32a2e6ea"
   }
  }
 },
 "nbformat": 4,
 "nbformat_minor": 2
}
