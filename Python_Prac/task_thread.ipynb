{
 "cells": [
  {
   "cell_type": "markdown",
   "metadata": {},
   "source": [
    "### Task\n",
    "- Demonstrate use of threads in performing more then two threads"
   ]
  },
  {
   "cell_type": "code",
   "execution_count": 57,
   "metadata": {},
   "outputs": [],
   "source": [
    "import threading"
   ]
  },
  {
   "cell_type": "code",
   "execution_count": 58,
   "metadata": {},
   "outputs": [],
   "source": [
    "def greet():\n",
    "    print(\"hello\")\n",
    "\n",
    "def greet2():\n",
    "    print(\"Hello 2\")\n",
    "    \n",
    "t1 = threading.Thread(target=greet, name=\"hello\")\n",
    "t2 = threading.Thread(target=greet2, name=\"hello\")"
   ]
  },
  {
   "cell_type": "code",
   "execution_count": 59,
   "metadata": {},
   "outputs": [
    {
     "name": "stdout",
     "output_type": "stream",
     "text": [
      "hello\n",
      "not alive\n",
      "--------------------------------------------\n",
      "Hello 2\n",
      "not alive\n"
     ]
    }
   ],
   "source": [
    "t1.start()\n",
    "if t1.is_alive():\n",
    "    print(\"alive\")\n",
    "else: \n",
    "    print(\"not alive\")\n",
    "\n",
    "\n",
    "print(\"--------------------------------------------\")\n",
    "\n",
    "t2.start()\n",
    "if t2.is_alive():\n",
    "    print(\"alive\")\n",
    "else: \n",
    "    print(\"not alive\")"
   ]
  },
  {
   "cell_type": "code",
   "execution_count": null,
   "metadata": {},
   "outputs": [],
   "source": []
  },
  {
   "cell_type": "code",
   "execution_count": 60,
   "metadata": {},
   "outputs": [],
   "source": [
    "def print_cube(num):\n",
    "    print(\"Cube :\",num*num*num)\n",
    "\n",
    "\n",
    "def print_square(num):\n",
    "    print(\"Square : \",num*num)\n",
    "\n",
    "\n",
    "def print_uppercase_string(s):\n",
    "    print(f\"Uppercase : {s.upper()}\")\n",
    "\n",
    "\n",
    "t1 = threading.Thread(target=print_cube,args=(10,))\n",
    "t2 = threading.Thread(target=print_square,args=(10,))\n",
    "t3 = threading.Thread(target=print_uppercase_string, args=(\"Ismail\",))"
   ]
  },
  {
   "cell_type": "code",
   "execution_count": 61,
   "metadata": {},
   "outputs": [
    {
     "name": "stdout",
     "output_type": "stream",
     "text": [
      "Cube : 1000\n",
      "not alive\n"
     ]
    }
   ],
   "source": [
    "t1.start()\n",
    "if t1.is_alive():\n",
    "    print(\"alive\")\n",
    "else: \n",
    "    print(\"not alive\")"
   ]
  },
  {
   "cell_type": "code",
   "execution_count": 62,
   "metadata": {},
   "outputs": [
    {
     "name": "stdout",
     "output_type": "stream",
     "text": [
      "Square :  100\n",
      "not alive\n"
     ]
    }
   ],
   "source": [
    "t2.start()\n",
    "if t2.is_alive():\n",
    "    print(\"alive\")\n",
    "else: \n",
    "    print(\"not alive\")\n",
    "    "
   ]
  },
  {
   "cell_type": "code",
   "execution_count": 63,
   "metadata": {},
   "outputs": [
    {
     "name": "stdout",
     "output_type": "stream",
     "text": [
      "Uppercase : ISMAIL\n",
      "not alive\n"
     ]
    }
   ],
   "source": [
    "t3.start()\n",
    "if t2.is_alive():\n",
    "    print(\"alive\")\n",
    "else: \n",
    "    print(\"not alive\")"
   ]
  },
  {
   "cell_type": "code",
   "execution_count": null,
   "metadata": {},
   "outputs": [],
   "source": []
  },
  {
   "cell_type": "code",
   "execution_count": null,
   "metadata": {},
   "outputs": [],
   "source": []
  }
 ],
 "metadata": {
  "kernelspec": {
   "display_name": "Python 3.10.5 64-bit",
   "language": "python",
   "name": "python3"
  },
  "language_info": {
   "codemirror_mode": {
    "name": "ipython",
    "version": 3
   },
   "file_extension": ".py",
   "mimetype": "text/x-python",
   "name": "python",
   "nbconvert_exporter": "python",
   "pygments_lexer": "ipython3",
   "version": "3.10.5"
  },
  "orig_nbformat": 4,
  "vscode": {
   "interpreter": {
    "hash": "c4749c06aa3e16d2c2a5037987614f0fd71db870bc4e2fb424ca63ed32a2e6ea"
   }
  }
 },
 "nbformat": 4,
 "nbformat_minor": 2
}
