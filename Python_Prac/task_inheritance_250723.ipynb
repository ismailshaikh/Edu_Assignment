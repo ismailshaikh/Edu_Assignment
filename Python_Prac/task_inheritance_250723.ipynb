{
 "cells": [
  {
   "cell_type": "markdown",
   "metadata": {},
   "source": [
    "### Inheritance Task 25/07/2023\n",
    "- Demonstrate concept of **Multiple Inheritance**\n",
    "- Demonstrate concept of **Hierarchical Inheritance**\n",
    "- Demonstrate concept of **Multilevel Inheritance**"
   ]
  },
  {
   "cell_type": "markdown",
   "metadata": {},
   "source": [
    "-----------------------------------------------------------------------------------------------------\n",
    "### Multiple Inheritance"
   ]
  },
  {
   "cell_type": "code",
   "execution_count": 35,
   "metadata": {},
   "outputs": [
    {
     "name": "stdout",
     "output_type": "stream",
     "text": [
      "Inside phone constructor\n",
      "Brand : Apple, Price : 20000\n",
      "You Are Buying a SmartPhone\n",
      "Buying a phone\n",
      "Product customer review\n",
      "-------------------------------------------------------\n",
      "Inside phone constructor\n",
      "Brand : Samsung, Price : 150000\n",
      "You Are Buying a SmartPhone\n",
      "Buying a phone\n",
      "Product customer review\n"
     ]
    }
   ],
   "source": [
    "class Product: # Parent\n",
    "    def review(self):\n",
    "        print (\"Product customer review\")\n",
    "\n",
    "class Phone: #Parent\n",
    "    def __init__(self, price, brand, camera):\n",
    "        print (\"Inside phone constructor\")\n",
    "        self.price = price\n",
    "        self.brand = brand\n",
    "        self.camera = camera\n",
    "\n",
    "    # Method\n",
    "    def buy(self):\n",
    "        if self.camera == 0:\n",
    "            print(f\"Brand : {self.brand}, Price : {self.price}\") \n",
    "            print (\"You Are Buying a FeaturePhone\")\n",
    "        else:\n",
    "            print(f\"Brand : {self.brand}, Price : {self.price}\")\n",
    "            print (\"You Are Buying a SmartPhone\")\n",
    "            \n",
    "        print (\"Buying a phone\")\n",
    "\n",
    "\n",
    "class smartphone(Phone,Product): # Child\n",
    "    def __init__(self, price, brand, camera):\n",
    "        super().__init__(price, brand, camera)\n",
    "    \n",
    "    # def SP_specification(self):\n",
    "    #     print(f\"Brand : {self.brand}, Price : {self.price}\")\n",
    "\n",
    "\n",
    "class FeaturePhone(Phone,Product): # Child\n",
    "    def __init__(self, price,brand, camera):\n",
    "        super().__init__(price, brand, camera)\n",
    "\n",
    "s=smartphone(20000, \"Apple\", 12)\n",
    "\n",
    "s.buy()\n",
    "s.review()\n",
    "\n",
    "print(\"-------------------------------------------------------\")\n",
    "p = FeaturePhone(150000,\"Samsung\",50)\n",
    "p.buy()\n",
    "p.review()"
   ]
  },
  {
   "cell_type": "markdown",
   "metadata": {},
   "source": [
    "-------------------------------------------------------------------------------------------------------\n",
    "### Hierarchical Inheritance"
   ]
  },
  {
   "cell_type": "code",
   "execution_count": 30,
   "metadata": {},
   "outputs": [
    {
     "name": "stdout",
     "output_type": "stream",
     "text": [
      "Inside phone constructor\n",
      "Brand : Apple, Price : 20000\n",
      "You Are Buying a SmartPhone\n",
      "Buying a phone\n",
      "--------------------------------------------\n",
      "Inside phone constructor\n",
      "Brand : Apple, Price : 2000\n",
      "You Are Buying a FeaturePhone\n",
      "Buying a phone\n"
     ]
    }
   ],
   "source": [
    "class Phone: # Parent\n",
    "    def __init__(self, price, brand, camera):\n",
    "        print (\"Inside phone constructor\")\n",
    "        self.price = price\n",
    "        self.brand = brand\n",
    "        self.camera = camera\n",
    "        \n",
    "    # Method\n",
    "    def buy(self):\n",
    "        if self.camera == 0:\n",
    "            print(f\"Brand : {self.brand}, Price : {self.price}\") \n",
    "            print (\"You Are Buying a FeaturePhone\")\n",
    "        else:\n",
    "            print(f\"Brand : {self.brand}, Price : {self.price}\")\n",
    "            print (\"You Are Buying a SmartPhone\")\n",
    "            \n",
    "        print (\"Buying a phone\")\n",
    "\n",
    "\n",
    "class smartphone(Phone): # Child\n",
    "    def __init__(self, price, brand, camera):\n",
    "        super().__init__(price, brand, camera)\n",
    "    \n",
    "    # def SP_specification(self):\n",
    "    #     print(f\"Brand : {self.brand}, Price : {self.price}\")\n",
    "\n",
    "\n",
    "class FeaturePhone(Phone): # Child\n",
    "    def __init__(self, price,brand, camera):\n",
    "        super().__init__(price, brand, camera)\n",
    "    \n",
    "    # def FP_specification(self):\n",
    "    #     print(f\"Brand : {self.brand}, Price : {self.price}\")\n",
    "\n",
    "\n",
    "s = smartphone(20000,\"Apple\",13)\n",
    "s.buy()\n",
    "# s.SP_specification()\n",
    "print(\"--------------------------------------------\")\n",
    "p = FeaturePhone(2000,\"Apple\",0)\n",
    "# p.FP_specification()\n",
    "p.buy()"
   ]
  },
  {
   "cell_type": "markdown",
   "metadata": {},
   "source": [
    "------------------------------------------------------------------------\n",
    "### Multilevel inheritance"
   ]
  },
  {
   "cell_type": "code",
   "execution_count": 43,
   "metadata": {},
   "outputs": [
    {
     "name": "stdout",
     "output_type": "stream",
     "text": [
      "Inside phone constructor\n",
      "Brand : Apple, Price : 20000\n",
      "You Are Buying a SmartPhone\n",
      "Buying a phone\n",
      "Product customer review\n",
      "-------------------------------------------------------\n",
      "Inside phone constructor\n",
      "Brand : Samsung, Price : 150000\n",
      "You Are Buying a FeaturePhone\n",
      "Buying a phone\n",
      "Product customer review\n"
     ]
    }
   ],
   "source": [
    "\n",
    "class Product: # Grand Father\n",
    "    \n",
    "    # Method\n",
    "    def review(self):\n",
    "        print (\"Product customer review\")\n",
    "\n",
    "class Phone(Product): # Father\n",
    "    def __init__(self, price, brand, camera):\n",
    "        print (\"Inside phone constructor\")\n",
    "        self.price = price\n",
    "        self.brand = brand\n",
    "        self.camera = camera\n",
    "\n",
    "\n",
    "    def buy(self): # Method\n",
    "        if self.camera is None:\n",
    "            print(f\"Brand : {self.brand}, Price : {self.price}\") \n",
    "            print (\"You Are Buying a FeaturePhone\")\n",
    "        else:\n",
    "            print(f\"Brand : {self.brand}, Price : {self.price}\")\n",
    "            print (\"You Are Buying a SmartPhone\")\n",
    "            \n",
    "        print (\"Buying a phone\")\n",
    "\n",
    "\n",
    "class smartphone(Phone): # Child\n",
    "    def __init__(self, price, brand, camera):\n",
    "        super().__init__(price, brand, camera)\n",
    "    \n",
    "\n",
    "    \n",
    "class FeaturePhone(Phone): # Child\n",
    "    def __init__(self, price,brand, camera=None):\n",
    "        super().__init__(price, brand, camera)\n",
    "\n",
    "\n",
    "    \n",
    "s=smartphone(20000, \"Apple\", 12)\n",
    "\n",
    "s.buy()\n",
    "s.review()\n",
    "\n",
    "print(\"-------------------------------------------------------\")\n",
    "p = FeaturePhone(150000,\"Samsung\")\n",
    "p.buy()\n",
    "p.review()"
   ]
  },
  {
   "cell_type": "code",
   "execution_count": null,
   "metadata": {},
   "outputs": [],
   "source": []
  },
  {
   "cell_type": "code",
   "execution_count": null,
   "metadata": {},
   "outputs": [],
   "source": []
  }
 ],
 "metadata": {
  "kernelspec": {
   "display_name": "Python 3.10.5 64-bit",
   "language": "python",
   "name": "python3"
  },
  "language_info": {
   "codemirror_mode": {
    "name": "ipython",
    "version": 3
   },
   "file_extension": ".py",
   "mimetype": "text/x-python",
   "name": "python",
   "nbconvert_exporter": "python",
   "pygments_lexer": "ipython3",
   "version": "3.10.5"
  },
  "orig_nbformat": 4,
  "vscode": {
   "interpreter": {
    "hash": "c4749c06aa3e16d2c2a5037987614f0fd71db870bc4e2fb424ca63ed32a2e6ea"
   }
  }
 },
 "nbformat": 4,
 "nbformat_minor": 2
}
