{
 "cells": [
  {
   "cell_type": "code",
   "execution_count": 5,
   "metadata": {},
   "outputs": [
    {
     "name": "stdout",
     "output_type": "stream",
     "text": [
      "* * * * * \n",
      " * * * * \n",
      "  * * * \n",
      "   * * \n",
      "    * \n"
     ]
    }
   ],
   "source": [
    "# Reverse pyramid\n",
    "num = 5\n",
    "\n",
    "for i in range(num,0,-1):\n",
    "    for j in range(0,num-i):\n",
    "        print(end=\" \")\n",
    "    for j in range(0,i):\n",
    "        print(\"*\",end=\" \")\n",
    "    print()"
   ]
  },
  {
   "cell_type": "code",
   "execution_count": 9,
   "metadata": {},
   "outputs": [
    {
     "name": "stdout",
     "output_type": "stream",
     "text": [
      "* * * * * \n",
      " * * * * \n",
      "  * * * \n",
      "   * * \n",
      "    * \n"
     ]
    }
   ],
   "source": [
    "for i in range(num,0,-1):\n",
    "    for j in range(0,num-i):\n",
    "        print(end=\" \")\n",
    "    for j in range(0,i):\n",
    "        print(\"*\",end=\" \")\n",
    "    print()"
   ]
  },
  {
   "cell_type": "code",
   "execution_count": 15,
   "metadata": {},
   "outputs": [],
   "source": [
    "def pyramid(rows):\n",
    "    for i in range(rows):\n",
    "        print(' '*(rows-i-1)+'* '+(i+1))\n",
    "    for j in range(rows-1,0,-1):\n",
    "        print(' '*(rows-j)+'* '*(j))"
   ]
  },
  {
   "cell_type": "code",
   "execution_count": 17,
   "metadata": {},
   "outputs": [
    {
     "name": "stdout",
     "output_type": "stream",
     "text": [
      "    * \n",
      "   * * \n",
      "  * * * \n",
      " * * * * \n",
      "* * * * * \n",
      " * * * * \n",
      "  * * * \n",
      "   * * \n",
      "    * \n"
     ]
    }
   ],
   "source": [
    "num = 5\n",
    "for i in range(num):\n",
    "    print(' '*(num-i-1)+'* '*(i+1))\n",
    "for j in range(num-1,0,-1):\n",
    "    print(' '*(num-j)+'* '*(j))"
   ]
  },
  {
   "cell_type": "code",
   "execution_count": 18,
   "metadata": {},
   "outputs": [],
   "source": [
    "def pyrmyd(num):\n",
    "    for i in range(num):\n",
    "        print(' '*(num-i-1)+'* '*(i+1))\n",
    "        \n",
    "    for j in range(num-1,0,-1):\n",
    "        print(' '*(num-j)+'* '*(j))\n",
    "        \n",
    "pyrmyd(5)"
   ]
  },
  {
   "cell_type": "code",
   "execution_count": 35,
   "metadata": {},
   "outputs": [
    {
     "name": "stdout",
     "output_type": "stream",
     "text": [
      "++++* \n",
      "+++* * \n",
      "++* * * \n",
      "+* * * * \n",
      "* * * * * \n"
     ]
    }
   ],
   "source": [
    "print('+'*(5-0-1)+'* '*(0+1))\n",
    "print('+'*(5-1-1)+'* '*(1+1))\n",
    "print('+'*(5-2-1)+'* '*(2+1))\n",
    "print('+'*(5-3-1)+'* '*(3+1))\n",
    "print('+'*(5-4-1)+'* '*(4+1))"
   ]
  },
  {
   "cell_type": "code",
   "execution_count": 27,
   "metadata": {},
   "outputs": [
    {
     "name": "stdout",
     "output_type": "stream",
     "text": [
      "++++* \n",
      "+++* * \n",
      "++* * * \n",
      "+* * * * \n",
      "* * * * * \n"
     ]
    }
   ],
   "source": [
    "num = 5\n",
    "for i in range(num):\n",
    "    print('+'*(num-i-1)+'* '*(i+1))"
   ]
  },
  {
   "cell_type": "code",
   "execution_count": 28,
   "metadata": {},
   "outputs": [
    {
     "name": "stdout",
     "output_type": "stream",
     "text": [
      "+* * * * \n",
      "++* * * \n",
      "+++* * \n",
      "++++* \n"
     ]
    }
   ],
   "source": [
    "for j in range(num-1,0,-1):\n",
    "    print('+'*(num-j)+'* '*(j))"
   ]
  },
  {
   "cell_type": "code",
   "execution_count": 30,
   "metadata": {},
   "outputs": [
    {
     "name": "stdout",
     "output_type": "stream",
     "text": [
      "+* * * * \n",
      "++* * * \n",
      "+++* * \n",
      "++++* \n",
      "+++++\n"
     ]
    }
   ],
   "source": [
    "print('+'*(5-4)+'* '*(4))\n",
    "print('+'*(5-3)+'* '*(3))\n",
    "print('+'*(5-2)+'* '*(2))\n",
    "print('+'*(5-1)+'* '*(1))\n"
   ]
  },
  {
   "cell_type": "code",
   "execution_count": 23,
   "metadata": {},
   "outputs": [
    {
     "name": "stdout",
     "output_type": "stream",
     "text": [
      "* \n"
     ]
    }
   ],
   "source": [
    "print('* '*(0+1))"
   ]
  },
  {
   "cell_type": "code",
   "execution_count": 25,
   "metadata": {},
   "outputs": [
    {
     "name": "stdout",
     "output_type": "stream",
     "text": [
      "* \n",
      "* * \n",
      "* * * \n",
      "* * * * \n",
      "* * * * * \n",
      "* * * * \n",
      "* * * \n",
      "* * \n",
      "* \n"
     ]
    }
   ],
   "source": [
    "def pyrmyd(num):\n",
    "    for i in range(num):\n",
    "        print('* '*(i+1))\n",
    "    for j in range(num-1,0,-1):\n",
    "        print('* '*(j))\n",
    "        \n",
    "pyrmyd(5)"
   ]
  },
  {
   "cell_type": "code",
   "execution_count": null,
   "metadata": {},
   "outputs": [],
   "source": []
  },
  {
   "cell_type": "code",
   "execution_count": 123,
   "metadata": {},
   "outputs": [],
   "source": [
    "class Print_Shape:\n",
    "    # shape_l = ['Pyramid','R_Pyramid','Dimond',]\n",
    "    def __init__(self,size):\n",
    "        # shape = ['Pyramid','R_Pyramid','Dimond']\n",
    "        # Constrain (Instance method) Run\n",
    "        # self.shape = shape,\n",
    "        self.size = size\n",
    "        \n",
    "    def pyramid(self):\n",
    "        for i in range(self.size):\n",
    "            print(\" \"*(self.size-i+1)+\"* \"*(i+1))\n",
    "        print()\n",
    "        \n",
    "    def R_Pyramid(self):\n",
    "        for i in range(self.size):\n",
    "            print(\" \"*(i)+\"* \"*(self.size-i))\n",
    "    \n",
    "    def dymond(self):\n",
    "        for i in range(self.size):\n",
    "            print(\" \"*(self.size-i-1)+\"* \"*(i+1))\n",
    "        for j in range(self.size-1,0,-1):\n",
    "            print(\" \"*(self.size-j)+\"* \"*(j))\n",
    "    \n",
    "    def left_side_triangle(self):\n",
    "        for i in range(self.size):\n",
    "            print(\"* \"*(i+1))\n",
    "            \n",
    "    def right_side_triangle(self):\n",
    "        for i in range(self.size-1,0,-1):\n",
    "            print(\"* \"*(i))"
   ]
  },
  {
   "cell_type": "code",
   "execution_count": 125,
   "metadata": {},
   "outputs": [
    {
     "name": "stdout",
     "output_type": "stream",
     "text": [
      "* \n",
      "* * \n",
      "* * * \n",
      "* * * * \n",
      "* * * * * \n",
      "* * * * \n",
      "* * * \n",
      "* * \n",
      "* \n"
     ]
    }
   ],
   "source": [
    "p = Print_Shape(5)\n",
    "# p.pyramid()\n",
    "# p.R_Pyramid()\n",
    "# p.dymond()\n",
    "p.left_side_triangle()\n",
    "p.right_side_triangle()"
   ]
  },
  {
   "cell_type": "code",
   "execution_count": 126,
   "metadata": {},
   "outputs": [
    {
     "name": "stdout",
     "output_type": "stream",
     "text": [
      "      * \n",
      "     * * \n",
      "    * * * \n",
      "   * * * * \n",
      "  * * * * * \n",
      "\n"
     ]
    }
   ],
   "source": [
    "size = 5\n",
    "def pyramid(size):\n",
    "    for i in range(size):\n",
    "        print(\" \"*(size-i+1)+\"* \"*(i+1))\n",
    "    print()\n",
    "\n",
    "pyramid(size)"
   ]
  },
  {
   "cell_type": "code",
   "execution_count": 31,
   "metadata": {},
   "outputs": [
    {
     "name": "stdout",
     "output_type": "stream",
     "text": [
      "* * * * * * * * * * \n",
      " * * * * * * * * * \n",
      "  * * * * * * * * \n",
      "   * * * * * * * \n",
      "    * * * * * * \n",
      "     * * * * * \n",
      "      * * * * \n",
      "       * * * \n",
      "        * * \n",
      "         * \n"
     ]
    }
   ],
   "source": [
    "def R_Pyramid(size):\n",
    "    for i in range(size):\n",
    "        print(\" \"*(i)+\"* \"*(size-i))\n",
    "    \n",
    "R_Pyramid(10)"
   ]
  },
  {
   "cell_type": "code",
   "execution_count": 8,
   "metadata": {},
   "outputs": [
    {
     "name": "stdout",
     "output_type": "stream",
     "text": [
      "      * \n",
      "     * * \n",
      "    * * * \n",
      "   * * * * \n",
      "  * * * * * \n",
      "\n"
     ]
    }
   ],
   "source": [
    "for i in range(5):\n",
    "    print(\" \"*(5-i+1)+\"* \"*(i+1))\n",
    "print()"
   ]
  },
  {
   "cell_type": "code",
   "execution_count": 60,
   "metadata": {},
   "outputs": [
    {
     "name": "stdout",
     "output_type": "stream",
     "text": [
      "* * * * * \n",
      " * * * * \n",
      "  * * * \n",
      "   * * \n",
      "    * \n",
      "\n",
      " * * * * \n",
      "  * * * \n",
      "   * * \n",
      "    * \n"
     ]
    }
   ],
   "source": [
    "for i in range(5):\n",
    "    print(\" \"*(i)+\"* \"*(5-i))\n",
    "print()\n",
    "\n",
    "for j in range(5-1,0,-1):\n",
    "    print(\" \"*(5-j)+\"* \"*(j))"
   ]
  },
  {
   "cell_type": "code",
   "execution_count": 62,
   "metadata": {},
   "outputs": [
    {
     "name": "stdout",
     "output_type": "stream",
     "text": [
      "    * \n",
      "   * * \n",
      "  * * * \n",
      " * * * * \n",
      "* * * * * \n",
      " * * * * \n",
      "  * * * \n",
      "   * * \n",
      "    * \n"
     ]
    }
   ],
   "source": [
    "for i in range(5):\n",
    "    print(\" \"*(5-i-1)+\"* \"*(i+1))\n",
    "for j in range(5-1,0,-1):\n",
    "    print(\" \"*(5-j)+\"* \"*(j))"
   ]
  },
  {
   "cell_type": "code",
   "execution_count": 16,
   "metadata": {},
   "outputs": [
    {
     "name": "stdout",
     "output_type": "stream",
     "text": [
      "    * \n",
      "   * * \n",
      "  * * * \n",
      " * * * * \n",
      "* * * * * \n",
      "+* * * * \n",
      "++* * * \n",
      "+++* * \n",
      "++++* \n"
     ]
    }
   ],
   "source": [
    "for i in range(5):\n",
    "    print(\" \"*(5-i-1)+\"* \"*(i+1))\n",
    "for j in range(5-1,0,-1):\n",
    "    print(\"+\"*(5-j)+'* '*(j))"
   ]
  },
  {
   "cell_type": "code",
   "execution_count": 32,
   "metadata": {},
   "outputs": [
    {
     "name": "stdout",
     "output_type": "stream",
     "text": [
      "    * \n",
      "   * * \n",
      "  * * * \n",
      " * * * * \n",
      "* * * * * \n",
      " * * * * \n",
      "  * * * \n",
      "   * * \n",
      "    * \n"
     ]
    }
   ],
   "source": [
    "def dymond(num):\n",
    "    for i  in range(num):\n",
    "        print(\" \"*(num-i-1)+'* '*(i+1))\n",
    "    for j in range(num-1,0,-1):\n",
    "        print(\" \"*(num-j)+\"* \"*(j))\n",
    "\n",
    "dymond(5)"
   ]
  },
  {
   "cell_type": "code",
   "execution_count": null,
   "metadata": {},
   "outputs": [],
   "source": [
    "SELECT \n",
    "    (CONCAT(name , '(' , LEFT(occupation,1) , ')')) \n",
    "FROM occupations \n",
    "ORDER BY name;\n",
    "\n",
    "SELECT \n",
    "    (CONCAT('There are a total of ', COUNT(occupation), ' ' , LOWER(occupation), 's' , '.')) \n",
    "FROM occupations \n",
    "GROUP BY occupation \n",
    "ORDER BY COUNT(occupation), occupation ASC;\n",
    "\n",
    "\n"
   ]
  },
  {
   "cell_type": "code",
   "execution_count": null,
   "metadata": {},
   "outputs": [],
   "source": [
    "select \n",
    "    (concat(Name,\"(\",substr(Name,1,1),\")\")) \n",
    "from occupations \n",
    "order by Name;\n",
    "\n",
    "select \n",
    "    (concat(\"There are a total of \",count(occupation),\" \",lower(occupation),\"s\",'.')) \n",
    "from occupations \n",
    "group by occupation \n",
    "order by count(occupation), occupation asc;\n"
   ]
  }
 ],
 "metadata": {
  "kernelspec": {
   "display_name": "Python 3.10.5 64-bit",
   "language": "python",
   "name": "python3"
  },
  "language_info": {
   "codemirror_mode": {
    "name": "ipython",
    "version": 3
   },
   "file_extension": ".py",
   "mimetype": "text/x-python",
   "name": "python",
   "nbconvert_exporter": "python",
   "pygments_lexer": "ipython3",
   "version": "3.10.5"
  },
  "vscode": {
   "interpreter": {
    "hash": "c4749c06aa3e16d2c2a5037987614f0fd71db870bc4e2fb424ca63ed32a2e6ea"
   }
  }
 },
 "nbformat": 4,
 "nbformat_minor": 4
}
