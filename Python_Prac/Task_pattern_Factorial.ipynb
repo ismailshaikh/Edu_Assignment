{
 "cells": [
  {
   "cell_type": "code",
   "execution_count": 1,
   "metadata": {},
   "outputs": [
    {
     "name": "stdout",
     "output_type": "stream",
     "text": [
      "120\n"
     ]
    }
   ],
   "source": [
    "# factorial\n",
    "\n",
    "i = 5\n",
    "fac = 1\n",
    "\n",
    "while (i>0):\n",
    "    fac = fac*i\n",
    "    i=i-1\n",
    "\n",
    "print(fac)\n"
   ]
  },
  {
   "cell_type": "code",
   "execution_count": 2,
   "metadata": {},
   "outputs": [],
   "source": [
    "def factori(n):\n",
    "    fac = 1\n",
    "    while (n>0):\n",
    "        fac = fac*n\n",
    "        n=n-1\n",
    "    return fac"
   ]
  },
  {
   "cell_type": "code",
   "execution_count": 3,
   "metadata": {},
   "outputs": [
    {
     "data": {
      "text/plain": [
       "120"
      ]
     },
     "execution_count": 3,
     "metadata": {},
     "output_type": "execute_result"
    }
   ],
   "source": [
    "factori(5)"
   ]
  },
  {
   "cell_type": "code",
   "execution_count": 7,
   "metadata": {},
   "outputs": [
    {
     "data": {
      "text/plain": [
       "2432902008176640000"
      ]
     },
     "execution_count": 7,
     "metadata": {},
     "output_type": "execute_result"
    }
   ],
   "source": [
    "n = int(input())\n",
    "factori(n)"
   ]
  },
  {
   "cell_type": "code",
   "execution_count": 6,
   "metadata": {},
   "outputs": [
    {
     "name": "stdout",
     "output_type": "stream",
     "text": [
      "2432902008176640000\n"
     ]
    }
   ],
   "source": [
    "# Recursion with Factorial\n",
    "\n",
    "def fac_recurs(n):\n",
    "    if n==0 or n==1:\n",
    "        return 1\n",
    "    else:\n",
    "        return n*fac_recurs(n-1)\n",
    "    \n",
    "n=int(input())\n",
    "res = fac_recurs(n)\n",
    "print(res)"
   ]
  },
  {
   "cell_type": "code",
   "execution_count": 9,
   "metadata": {},
   "outputs": [
    {
     "name": "stdout",
     "output_type": "stream",
     "text": [
      "* * * * * * * * * * * * \n",
      "* * * * * * * * * * * * \n",
      "* * * * * * * * * * * * \n",
      "* * * * * * * * * * * * \n",
      "* * * * * * * * * * * * \n",
      "* * * * * * * * * * * * \n"
     ]
    }
   ],
   "source": [
    "# print(NO with *)\n",
    "\n",
    "for i in range(6):\n",
    "    for j in range(12):\n",
    "        print(\"*\",end=\" \")\n",
    "    print()"
   ]
  },
  {
   "cell_type": "code",
   "execution_count": 10,
   "metadata": {},
   "outputs": [
    {
     "name": "stdout",
     "output_type": "stream",
     "text": [
      "*    * **** \n",
      "**   **    *\n",
      "* *  **    *\n",
      "*  * **    *\n",
      "*   ***    *\n",
      "*    * **** \n"
     ]
    }
   ],
   "source": [
    "# Print(N)\n",
    "\n",
    "print_N = [[\" \" for i in range(6)] for j in range(6)]\n",
    "\n",
    "print_O = [[\" \" for i in range(6)] for j in range(6)]\n",
    "\n",
    "# Code For N\n",
    "\n",
    "for row in range(6):\n",
    "    for col in range(6):\n",
    "        if col==0 or col==5 or row==col:\n",
    "            print_N[row][col]=\"*\"\n",
    "\n",
    "# Code for O    \n",
    "for row in range(6):\n",
    "    for col in range(6):\n",
    "        if ((row==0 or row==5) and (col!=0 and col!=5)) or (col==0 or col==5) and ((row!=0 and row!=5)) :\n",
    "            print_O[row][col]=\"*\"\n",
    "\n",
    "for i in range(6):\n",
    "    for j in range(6):\n",
    "        print(print_N[i][j],end=\"\")\n",
    "    \n",
    "    for j in range(6):\n",
    "        print(print_O[i][j],end=\"\")\n",
    "    print()\n"
   ]
  },
  {
   "cell_type": "code",
   "execution_count": 25,
   "metadata": {},
   "outputs": [
    {
     "name": "stdout",
     "output_type": "stream",
     "text": [
      "******\n",
      "*    *\n",
      "*    *\n",
      "*    *\n",
      "*    *\n",
      "******\n"
     ]
    }
   ],
   "source": [
    "for i in range(6):\n",
    "    for j in range(6):\n",
    "        if ((i==0 or i==5) and (j!=0 and j!=5)) or ((j==0 or j==5) and (i!=0 or i!=5)):\n",
    "            print(\"*\", end=\"\")\n",
    "        else:\n",
    "            print(\" \", end = \"\")\n",
    "    print()"
   ]
  },
  {
   "cell_type": "code",
   "execution_count": 26,
   "metadata": {},
   "outputs": [
    {
     "name": "stdout",
     "output_type": "stream",
     "text": [
      " **** \n",
      "*    *\n",
      "*    *\n",
      "*    *\n",
      "*    *\n",
      " **** \n"
     ]
    }
   ],
   "source": [
    "for row in range(6):\n",
    "    for col in range(6):\n",
    "        if ((row==0 or row==5) and (col!=0 and col!=5)) or ((col==0 or col==5) and (row!=0 and row!=5)) :\n",
    "            print(\"*\",end=\"\")\n",
    "        else:\n",
    "            print(\" \", end=\"\")\n",
    "    print()\n",
    "            \n",
    "        "
   ]
  },
  {
   "cell_type": "code",
   "execution_count": null,
   "metadata": {},
   "outputs": [],
   "source": []
  }
 ],
 "metadata": {
  "kernelspec": {
   "display_name": "Python 3.10.5 64-bit",
   "language": "python",
   "name": "python3"
  },
  "language_info": {
   "codemirror_mode": {
    "name": "ipython",
    "version": 3
   },
   "file_extension": ".py",
   "mimetype": "text/x-python",
   "name": "python",
   "nbconvert_exporter": "python",
   "pygments_lexer": "ipython3",
   "version": "3.10.5"
  },
  "orig_nbformat": 4,
  "vscode": {
   "interpreter": {
    "hash": "c4749c06aa3e16d2c2a5037987614f0fd71db870bc4e2fb424ca63ed32a2e6ea"
   }
  }
 },
 "nbformat": 4,
 "nbformat_minor": 2
}
