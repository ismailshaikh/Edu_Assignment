{
 "cells": [
  {
   "cell_type": "markdown",
   "metadata": {},
   "source": [
    "## **Constructor**"
   ]
  },
  {
   "cell_type": "markdown",
   "metadata": {},
   "source": [
    "1. Write a Python program to create a **class** and **display the namespace** of the said class.\n",
    "\n",
    "2. Write a Python **function student_data()** which will **print** the **id** of a **student (student_id)**.\n",
    "If the user passes an **argument student_name** or **student_class** the function will print the **student name and class**.\n",
    "\n",
    "3. Write a **Python class named Student** with **two** instances **student1**, **student2** and **assign** given **values** to the said instances attributes. \n",
    "    **Print all the attributes** of student1, student2 instances with their values in the given format."
   ]
  },
  {
   "cell_type": "code",
   "execution_count": 3,
   "metadata": {},
   "outputs": [
    {
     "name": "stdout",
     "output_type": "stream",
     "text": [
      "{'__module__': '__main__', '__init__': <function Student.__init__ at 0x00000128DCCD7400>, 'student_data': <function Student.student_data at 0x00000128DCCD6B00>, '__dict__': <attribute '__dict__' of 'Student' objects>, '__weakref__': <attribute '__weakref__' of 'Student' objects>, '__doc__': None}\n",
      "Student_name is ismail & Class is c1 Student id is 1\n"
     ]
    }
   ],
   "source": [
    "class Student:\n",
    "    def __init__(self,student_id,student_name,student_class):\n",
    "        self.student_id=student_id\n",
    "        self.student_name=student_name\n",
    "        self.student_class=student_class\n",
    "        \n",
    "    def student_data(self):\n",
    "        \n",
    "        print(f\"Student_name is : {self.student_name} & Class is: {self.student_class} Student id is: {self.student_id}\")\n",
    "        # print(f\"Student_name is {student_name} & Class is {student_class}\")\n",
    "        \n",
    "    \n",
    "s1 = Student(1,\"ismail\",\"c1\")\n",
    "\n",
    "\n",
    "\n",
    "s1.student_data()        "
   ]
  },
  {
   "cell_type": "code",
   "execution_count": 5,
   "metadata": {},
   "outputs": [
    {
     "name": "stdout",
     "output_type": "stream",
     "text": [
      "{'__module__': '__main__', '__init__': <function Student.__init__ at 0x00000128DCCD7400>, 'student_data': <function Student.student_data at 0x00000128DCCD6B00>, '__dict__': <attribute '__dict__' of 'Student' objects>, '__weakref__': <attribute '__weakref__' of 'Student' objects>, '__doc__': None}\n",
      "<class '__main__.Student'>\n"
     ]
    }
   ],
   "source": [
    "print(vars(Student))\n",
    "print(Student)"
   ]
  },
  {
   "cell_type": "code",
   "execution_count": 5,
   "metadata": {},
   "outputs": [
    {
     "name": "stdout",
     "output_type": "stream",
     "text": [
      "Id: 1\n",
      "Name: pankaj\n",
      "Class: 9848\n",
      "Id: 2\n",
      "Name: Ismail\n",
      "Class: 9849\n"
     ]
    }
   ],
   "source": [
    "class Student:\n",
    "    def __init__(self, student_id, student_name, student_class):\n",
    "        self.student_id = student_id\n",
    "        self.student_name = student_name\n",
    "        self.student_class = student_class\n",
    "\n",
    "    def student_data(self):\n",
    "        print(f\"Id: {self.student_id}\")\n",
    "        \n",
    "        if self.student_name:\n",
    "            print(f\"Name: {self.student_name}\")\n",
    "        \n",
    "            if self.student_class:\n",
    "                print(f\"Class: {self.student_class}\")\n",
    "\n",
    "\n",
    "\n",
    "student1 = Student(1,\"pankaj\",9848)\n",
    "student1.student_data()\n",
    "\n",
    "student2 = Student(2, \"Ismail\",9849)\n",
    "student2.student_data()\n",
    "\n",
    "\n"
   ]
  },
  {
   "cell_type": "code",
   "execution_count": null,
   "metadata": {},
   "outputs": [],
   "source": [
    "class Mobile:           \n",
    "        # CONSTRUCTOR\n",
    "        def __init__(self,brand,model) :\n",
    "            self.brand=brand\n",
    "            self.model=model\n",
    "            self.p_on = False\n",
    "        \n",
    "        # Garbage Collection\n",
    "        def __del__(self):\n",
    "            print(\"Done\")\n",
    "            \n",
    "        # FUNCTION\n",
    "        def power(self):\n",
    "            \n",
    "            if not self.p_on:\n",
    "                self.p_on=True\n",
    "                print(f\"{self.brand} {self.model} is ON\")\n",
    "            else:\n",
    "                print(f\"{self.model} {self.model} is Already ON\")\n",
    "            "
   ]
  },
  {
   "cell_type": "code",
   "execution_count": null,
   "metadata": {},
   "outputs": [],
   "source": [
    "samsung = Mobile(\"samsung\",\"S22ultra\")\n",
    "samsung.power()"
   ]
  },
  {
   "cell_type": "markdown",
   "metadata": {},
   "source": [
    "### Demonstrate use of constructor\n",
    "1. Try\n",
    "2. more then one except block\n",
    "3. else\n",
    "4. finally"
   ]
  },
  {
   "cell_type": "code",
   "execution_count": 18,
   "metadata": {},
   "outputs": [
    {
     "name": "stdout",
     "output_type": "stream",
     "text": [
      "The result of 10 / 2 is: 5.0\n",
      "Division operation completed.\n",
      "None\n",
      "The result of 10 + 2 is: 12\n",
      "Addition operation completed.\n",
      "None\n",
      "-----------------------------------------------------------------\n",
      "Error: Division by zero is not allowed: division by zero\n",
      "Division operation completed.\n",
      "None\n",
      "The result of 10 + 0 is: 10\n",
      "Addition operation completed.\n",
      "None\n",
      "-----------------------------------------------------------------\n",
      "Error: Both numbers should be integers or floats.\n",
      "Division operation completed.\n",
      "None\n",
      "can only concatenate str (not \"int\") to str\n",
      "Addition operation completed.\n",
      "None\n"
     ]
    }
   ],
   "source": [
    "class Calculator:\n",
    "    def __init__(self, x, y):\n",
    "        self.x = x\n",
    "        self.y = y\n",
    "\n",
    "    def divide(self):\n",
    "        try:\n",
    "            result = self.x / self.y\n",
    "        except ZeroDivisionError as zero:\n",
    "            print(f\"Error: Division by zero is not allowed: {zero}\")\n",
    "        except TypeError:\n",
    "            print(\"Error: Both numbers should be integers or floats.\")\n",
    "        else:\n",
    "            print(f\"The result of {self.x} / {self.y} is: {result}\")\n",
    "        finally:\n",
    "            print(\"Division operation completed.\")\n",
    "            \n",
    "    def addd(self):\n",
    "        try:\n",
    "            result = self.x + self.y\n",
    "        except Exception as e:\n",
    "            print(e)\n",
    "        else:\n",
    "            print(f\"The result of {self.x} + {self.y} is: {result}\")\n",
    "        finally:\n",
    "            print(\"Addition operation completed.\")\n",
    "            \n",
    "\n",
    "\n",
    "calc1 = Calculator(10, 2)\n",
    "print(calc1.divide())\n",
    "print(calc1.addd())\n",
    "\n",
    "print(\"-----------------------------------------------------------------\")\n",
    "\n",
    "calc2 = Calculator(10, 0)\n",
    "print(calc2.divide())\n",
    "print(calc2.addd())\n",
    "print(\"-----------------------------------------------------------------\")\n",
    "\n",
    "calc3 = Calculator(\"10\", 2)\n",
    "print(calc3.divide())\n",
    "print(calc3.addd())\n"
   ]
  },
  {
   "cell_type": "code",
   "execution_count": null,
   "metadata": {},
   "outputs": [],
   "source": []
  },
  {
   "cell_type": "code",
   "execution_count": null,
   "metadata": {},
   "outputs": [],
   "source": []
  }
 ],
 "metadata": {
  "kernelspec": {
   "display_name": "Python 3.10.5 64-bit",
   "language": "python",
   "name": "python3"
  },
  "language_info": {
   "codemirror_mode": {
    "name": "ipython",
    "version": 3
   },
   "file_extension": ".py",
   "mimetype": "text/x-python",
   "name": "python",
   "nbconvert_exporter": "python",
   "pygments_lexer": "ipython3",
   "version": "3.10.5"
  },
  "orig_nbformat": 4,
  "vscode": {
   "interpreter": {
    "hash": "c4749c06aa3e16d2c2a5037987614f0fd71db870bc4e2fb424ca63ed32a2e6ea"
   }
  }
 },
 "nbformat": 4,
 "nbformat_minor": 2
}
